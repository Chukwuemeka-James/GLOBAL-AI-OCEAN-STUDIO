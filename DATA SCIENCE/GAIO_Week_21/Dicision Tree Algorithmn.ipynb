{
 "cells": [
  {
   "cell_type": "markdown",
   "metadata": {},
   "source": [
    "## **Decision Tree Algorithmn using Scikit-learn**\n",
    "\n",
    "A **Decision Tree** is a supervised learning algorithm used for classification and regression tasks. It works by recursively splitting the dataset based on the most significant features, forming a tree-like structure where each internal node represents a decision rule, and leaf nodes represent class labels.  \n",
    "\n",
    "In this case, we're using a **Decision Tree Classifier** on the **Breast Cancer dataset** to classify tumors as **malignant** (cancerous) or **benign** (non-cancerous).  \n",
    "\n",
    "---\n",
    "\n",
    "### **Step 1: Importing Required Libraries**"
   ]
  },
  {
   "cell_type": "code",
   "execution_count": null,
   "metadata": {},
   "outputs": [],
   "source": [
    "import pandas as pd\n",
    "\n",
    "# importing  the dataset from scikit-learn\n",
    "\n",
    "from sklearn.datasets import load_breast_cancer"
   ]
  },
  {
   "cell_type": "markdown",
   "metadata": {},
   "source": [
    "### **Step 2: Loading the Dataset**\n",
    "\n",
    "\n",
    "- We use **pandas** to handle datasets.  \n",
    "- `load_breast_cancer()` loads a dataset containing **features** (tumor properties) and **target labels** (malignant = 0, benign = 1). "
   ]
  },
  {
   "cell_type": "code",
   "execution_count": null,
   "metadata": {},
   "outputs": [],
   "source": [
    "data = load_breast_cancer()\n",
    "dataset = pd.DataFrame(data=data['data'], columns=data['feature_names'])\n",
    "dataset"
   ]
  },
  {
   "cell_type": "markdown",
   "metadata": {},
   "source": [
    "- The dataset is stored in a **pandas DataFrame** for better visualization and manipulation.  \n",
    "- `data['feature_names']` contains **30 numerical features** related to tumor characteristics (e.g., mean radius, texture, area, etc.)."
   ]
  },
  {
   "cell_type": "markdown",
   "metadata": {},
   "source": [
    "### **Step 3: Splitting Data into Train and Test Sets**\n"
   ]
  },
  {
   "cell_type": "code",
   "execution_count": null,
   "metadata": {},
   "outputs": [],
   "source": [
    "from sklearn.model_selection import train_test_split\n",
    "X = dataset.copy()\n",
    "y = data['target']\n",
    "X_train, X_test, y_train, y_test = train_test_split(X, y, test_size=0.33)"
   ]
  },
  {
   "cell_type": "markdown",
   "metadata": {},
   "source": [
    "- `X` stores **input features** (tumor characteristics).  \n",
    "- `y` stores **target labels** (0 = malignant, 1 = benign).  \n",
    "- **`train_test_split()`** splits the dataset into:  \n",
    "  - **67% training data**  \n",
    "  - **33% testing data** "
   ]
  },
  {
   "cell_type": "markdown",
   "metadata": {},
   "source": [
    "### **Step 4: Training the Decision Tree Model**\n"
   ]
  },
  {
   "cell_type": "code",
   "execution_count": null,
   "metadata": {},
   "outputs": [],
   "source": [
    "from sklearn.tree import DecisionTreeClassifier\n",
    "clf = DecisionTreeClassifier(ccp_alpha=0.01)\n",
    "clf = clf.fit(X_train, y_train)"
   ]
  },
  {
   "cell_type": "markdown",
   "metadata": {},
   "source": [
    "- `DecisionTreeClassifier()` creates a **Decision Tree model**.  \n",
    "- `ccp_alpha=0.01` is **cost-complexity pruning**, which prevents overfitting by removing unnecessary splits.  \n",
    "- `clf.fit(X_train, y_train)` **trains the model** on the training dataset.  "
   ]
  },
  {
   "cell_type": "markdown",
   "metadata": {},
   "source": [
    "### **Step 5: Checking Model Parameters**\n"
   ]
  },
  {
   "cell_type": "code",
   "execution_count": null,
   "metadata": {},
   "outputs": [],
   "source": [
    "clf.get_params()\n"
   ]
  },
  {
   "cell_type": "markdown",
   "metadata": {},
   "source": [
    "- Displays **hyperparameters** like `criterion`, `max_depth`, `min_samples_split`, etc.  \n",
    "- `criterion='gini'` is the default and measures impurity in splits. "
   ]
  },
  {
   "cell_type": "markdown",
   "metadata": {},
   "source": [
    "### **Step 6: Making Predictions**\n"
   ]
  },
  {
   "cell_type": "code",
   "execution_count": null,
   "metadata": {},
   "outputs": [],
   "source": [
    "predictions = clf.predict(X_test)\n",
    "predictions"
   ]
  },
  {
   "cell_type": "markdown",
   "metadata": {},
   "source": [
    "- The trained model **predicts tumor types** for the test dataset.  \n",
    "- Outputs an array of **0s (malignant) and 1s (benign)**.  "
   ]
  },
  {
   "cell_type": "markdown",
   "metadata": {},
   "source": [
    "### **Step 7: Probability Predictions**\n"
   ]
  },
  {
   "cell_type": "code",
   "execution_count": null,
   "metadata": {},
   "outputs": [],
   "source": [
    "clf.predict_proba(X_test)\n"
   ]
  },
  {
   "cell_type": "markdown",
   "metadata": {},
   "source": [
    "- Instead of a **hard classification (0 or 1)**, this gives **probabilities** of each class for test samples.  \n"
   ]
  },
  {
   "cell_type": "markdown",
   "metadata": {},
   "source": [
    "### **Step 8: Evaluating Model Performance**\n",
    "#### **Accuracy Score**"
   ]
  },
  {
   "cell_type": "code",
   "execution_count": null,
   "metadata": {},
   "outputs": [],
   "source": [
    "from sklearn.metrics import accuracy_score\n",
    "accuracy_score(y_test, predictions)"
   ]
  },
  {
   "cell_type": "markdown",
   "metadata": {},
   "source": [
    "- Measures **overall correctness**:  \n",
    "  $$ \\text{Accuracy} = \\frac{\\text{Correct Predictions}}{\\text{Total Predictions}} $$\n",
    "- If accuracy is **high (~95-98%)**, the model performs well.  \n"
   ]
  },
  {
   "cell_type": "markdown",
   "metadata": {},
   "source": [
    "#### **Confusion Matrix**\n"
   ]
  },
  {
   "cell_type": "code",
   "execution_count": null,
   "metadata": {},
   "outputs": [],
   "source": [
    "from sklearn.metrics import confusion_matrix\n",
    "confusion_matrix(y_test, predictions, labels=[0,1])"
   ]
  },
  {
   "cell_type": "markdown",
   "metadata": {},
   "source": [
    "- Shows **True Positives (TP), False Positives (FP), True Negatives (TN), and False Negatives (FN)**.  \n"
   ]
  },
  {
   "cell_type": "markdown",
   "metadata": {},
   "source": [
    "#### **Precision and Recall**\n"
   ]
  },
  {
   "cell_type": "code",
   "execution_count": null,
   "metadata": {},
   "outputs": [],
   "source": [
    "from sklearn.metrics import precision_score, recall_score\n",
    "precision_score(y_test, predictions)\n",
    "recall_score(y_test, predictions)"
   ]
  },
  {
   "cell_type": "markdown",
   "metadata": {},
   "source": [
    "- **Precision**: How many predicted **benign tumors** were actually benign?  \n",
    "- **Recall**: How many actual **benign tumors** were correctly detected?  \n",
    "- These metrics help understand the model's reliability.  "
   ]
  },
  {
   "cell_type": "markdown",
   "metadata": {},
   "source": [
    "#### **Full Classification Report**\n"
   ]
  },
  {
   "cell_type": "code",
   "execution_count": null,
   "metadata": {},
   "outputs": [],
   "source": [
    "from sklearn.metrics import classification_report\n",
    "print(classification_report(y_test, predictions, target_names=['malignant', 'benign']))"
   ]
  },
  {
   "cell_type": "markdown",
   "metadata": {},
   "source": [
    "- Provides **Precision, Recall, F1-score** for both classes.  \n"
   ]
  },
  {
   "cell_type": "markdown",
   "metadata": {},
   "source": [
    "### **Step 9: Feature Importance Analysis**\n"
   ]
  },
  {
   "cell_type": "code",
   "execution_count": null,
   "metadata": {},
   "outputs": [],
   "source": [
    "feature_names = X.columns\n",
    "clf.feature_importances_"
   ]
  },
  {
   "cell_type": "markdown",
   "metadata": {},
   "source": [
    "- Decision Trees **rank features by importance** in classification.  \n",
    "- Higher values indicate more impact on classification.  "
   ]
  },
  {
   "cell_type": "code",
   "execution_count": null,
   "metadata": {},
   "outputs": [],
   "source": [
    "feature_importance = pd.DataFrame(clf.feature_importances_, index=feature_names).sort_values(0, ascending=False)\n",
    "\n",
    "# Displays a **sorted list** of most important features.  \n",
    "feature_importance"
   ]
  },
  {
   "cell_type": "markdown",
   "metadata": {},
   "source": [
    "#### **Visualizing Feature Importance**\n",
    "\n",
    "Let's plot the **top 10 most important features** in classification."
   ]
  },
  {
   "cell_type": "code",
   "execution_count": null,
   "metadata": {},
   "outputs": [],
   "source": [
    "feature_importance.head(10).plot(kind='bar')\n"
   ]
  },
  {
   "cell_type": "markdown",
   "metadata": {},
   "source": [
    "### **Step 10: Visualizing the Decision Tree**\n"
   ]
  },
  {
   "cell_type": "code",
   "execution_count": null,
   "metadata": {},
   "outputs": [],
   "source": [
    "from sklearn import tree\n",
    "from matplotlib import pyplot as plt\n",
    "\n",
    "fig = plt.figure(figsize=(25,20))\n",
    "_ = tree.plot_tree(clf, \n",
    "                   feature_names=feature_names,  \n",
    "                   class_names={0:'Malignant', 1:'Benign'},\n",
    "                   filled=True,\n",
    "                  fontsize=12)"
   ]
  },
  {
   "cell_type": "markdown",
   "metadata": {},
   "source": [
    "- Displays the **entire Decision Tree**.  \n",
    "- `filled=True` colors nodes based on classification confidence.  \n",
    "- Helps **understand decision paths**.  "
   ]
  },
  {
   "cell_type": "markdown",
   "metadata": {},
   "source": [
    "### **Step 11: Understanding Decision Paths**\n"
   ]
  },
  {
   "cell_type": "code",
   "execution_count": null,
   "metadata": {},
   "outputs": [],
   "source": [
    "X_test.head()\n",
    "clf.decision_path(X_test)"
   ]
  },
  {
   "cell_type": "markdown",
   "metadata": {},
   "source": [
    "- `decision_path()` **shows which nodes each sample passed through**.  \n"
   ]
  },
  {
   "cell_type": "markdown",
   "metadata": {},
   "source": [
    "### Let's visualizes the **first 101 test samples** passing through the Decision Tree.  \n"
   ]
  },
  {
   "cell_type": "code",
   "execution_count": null,
   "metadata": {},
   "outputs": [],
   "source": [
    "sparse = clf.decision_path(X_test).toarray()[:101]\n",
    "plt.figure(figsize=(20, 20))\n",
    "plt.spy(sparse, markersize=5)"
   ]
  },
  {
   "cell_type": "markdown",
   "metadata": {},
   "source": [
    "\n",
    "## **🔹 Summary of Key Takeaways**\n",
    "1️ **Decision Trees classify data by learning decision rules from training data.**  \n",
    "2️ **Pruning (via `ccp_alpha`) prevents overfitting.**  \n",
    "3️ **Accuracy, Precision, Recall, and Feature Importance help evaluate model performance.**  \n",
    "4️ **Tree visualization and decision paths help explain how the model makes predictions.**  \n",
    "5️ **Feature importance identifies which factors influence classification the most.**  "
   ]
  },
  {
   "cell_type": "markdown",
   "metadata": {},
   "source": []
  }
 ],
 "metadata": {
  "kernelspec": {
   "display_name": "Python 3",
   "language": "python",
   "name": "python3"
  },
  "language_info": {
   "name": "python",
   "version": "3.10.12"
  }
 },
 "nbformat": 4,
 "nbformat_minor": 2
}
