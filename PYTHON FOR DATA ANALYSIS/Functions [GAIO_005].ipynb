{
  "nbformat": 4,
  "nbformat_minor": 0,
  "metadata": {
    "colab": {
      "provenance": []
    },
    "kernelspec": {
      "name": "python3",
      "display_name": "Python 3"
    },
    "language_info": {
      "name": "python"
    }
  },
  "cells": [
    {
      "cell_type": "markdown",
      "source": [
        "## Function"
      ],
      "metadata": {
        "id": "oDOog_Qg80E3"
      }
    },
    {
      "cell_type": "code",
      "execution_count": null,
      "metadata": {
        "id": "37ytMi4F7UO4"
      },
      "outputs": [],
      "source": [
        "def greet():\n",
        "  print('Hello')"
      ]
    },
    {
      "cell_type": "code",
      "source": [
        "greet()"
      ],
      "metadata": {
        "colab": {
          "base_uri": "https://localhost:8080/"
        },
        "id": "bDCXRJba9Ilc",
        "outputId": "9a87bde2-c8e3-4c6a-be9c-b737fb26fb76"
      },
      "execution_count": null,
      "outputs": [
        {
          "output_type": "stream",
          "name": "stdout",
          "text": [
            "Hello\n"
          ]
        }
      ]
    },
    {
      "cell_type": "code",
      "source": [
        "def greeting(name):\n",
        "  print(f\"Good evening {name}\")"
      ],
      "metadata": {
        "id": "ar_Cc6qB9N6X"
      },
      "execution_count": null,
      "outputs": []
    },
    {
      "cell_type": "code",
      "source": [
        "greeting('Jamilu')"
      ],
      "metadata": {
        "colab": {
          "base_uri": "https://localhost:8080/"
        },
        "id": "vHYpcp0F9r79",
        "outputId": "156a3e39-fb5f-494c-de7a-735d8089abed"
      },
      "execution_count": null,
      "outputs": [
        {
          "output_type": "stream",
          "name": "stdout",
          "text": [
            "Good evening Jamilu\n"
          ]
        }
      ]
    },
    {
      "cell_type": "code",
      "source": [
        "# Function that wil add two numbers\n",
        "def add_num(x,y):\n",
        "  sumed = x + y\n",
        "  return sumed"
      ],
      "metadata": {
        "id": "oWqYDpmj9wQl"
      },
      "execution_count": null,
      "outputs": []
    },
    {
      "cell_type": "code",
      "source": [
        "add_num(10,20)"
      ],
      "metadata": {
        "colab": {
          "base_uri": "https://localhost:8080/"
        },
        "id": "YPA9Z8l9-cfQ",
        "outputId": "3b1951cf-a57d-4981-bdd9-f5244241cd23"
      },
      "execution_count": null,
      "outputs": [
        {
          "output_type": "execute_result",
          "data": {
            "text/plain": [
              "30"
            ]
          },
          "metadata": {},
          "execution_count": 8
        }
      ]
    },
    {
      "cell_type": "code",
      "source": [
        "def mul_num(x,y):\n",
        "  mul = x * y\n",
        "  return mul"
      ],
      "metadata": {
        "id": "nCOELN1T-gNW"
      },
      "execution_count": null,
      "outputs": []
    },
    {
      "cell_type": "code",
      "source": [
        "mul_num(10,2)"
      ],
      "metadata": {
        "colab": {
          "base_uri": "https://localhost:8080/"
        },
        "id": "zfiyvH2P_XIa",
        "outputId": "3ca8ea3a-d3e2-4768-9470-4845b5d42161"
      },
      "execution_count": null,
      "outputs": [
        {
          "output_type": "execute_result",
          "data": {
            "text/plain": [
              "20"
            ]
          },
          "metadata": {},
          "execution_count": 11
        }
      ]
    },
    {
      "cell_type": "code",
      "source": [
        "# unction that will multiply a number by its self (square)\n",
        "def squre(num):\n",
        "  sqrd_num = num*num\n",
        "  print(sqrd_num)"
      ],
      "metadata": {
        "id": "vvCY3gAY_c9f"
      },
      "execution_count": null,
      "outputs": []
    },
    {
      "cell_type": "code",
      "source": [
        "squre(10)"
      ],
      "metadata": {
        "colab": {
          "base_uri": "https://localhost:8080/"
        },
        "id": "WIMI58dp_5PU",
        "outputId": "852381de-4c85-4507-865e-4647c0c3c48a"
      },
      "execution_count": null,
      "outputs": [
        {
          "output_type": "stream",
          "name": "stdout",
          "text": [
            "100\n"
          ]
        }
      ]
    },
    {
      "cell_type": "code",
      "source": [
        "def ask_question():\n",
        "  name = input('What is your name: ')\n",
        "  print(f'Your name is {name}')"
      ],
      "metadata": {
        "id": "tRtonmn8AIVK"
      },
      "execution_count": null,
      "outputs": []
    },
    {
      "cell_type": "code",
      "source": [
        "ask_question()"
      ],
      "metadata": {
        "colab": {
          "base_uri": "https://localhost:8080/"
        },
        "id": "0Nr7RK8LA7Sv",
        "outputId": "c541231d-4b82-4a86-fc40-cce5fc28f2f5"
      },
      "execution_count": null,
      "outputs": [
        {
          "output_type": "stream",
          "name": "stdout",
          "text": [
            "What is your name: Marcel\n",
            "Your name is Marcel\n"
          ]
        }
      ]
    },
    {
      "cell_type": "markdown",
      "source": [
        "## Lambda Funtion"
      ],
      "metadata": {
        "id": "CSEJJJfEBrco"
      }
    },
    {
      "cell_type": "code",
      "source": [
        "# While creating a lambda funtion you start with the key word lambda\n",
        "# Then you pass in the parameters you want\n",
        "# You type a colon\n",
        "# Type the code\n",
        "greet = lambda name: f'Good evening {name}'"
      ],
      "metadata": {
        "id": "28rWWAYvA9M7"
      },
      "execution_count": null,
      "outputs": []
    },
    {
      "cell_type": "code",
      "source": [
        "greet('Zainab')"
      ],
      "metadata": {
        "colab": {
          "base_uri": "https://localhost:8080/",
          "height": 35
        },
        "id": "R7iOnPRECvy-",
        "outputId": "6e7d0ab9-361f-4fca-892f-a652b181fe67"
      },
      "execution_count": null,
      "outputs": [
        {
          "output_type": "execute_result",
          "data": {
            "text/plain": [
              "'Good evening Zainab'"
            ],
            "application/vnd.google.colaboratory.intrinsic+json": {
              "type": "string"
            }
          },
          "metadata": {},
          "execution_count": 18
        }
      ]
    },
    {
      "cell_type": "code",
      "source": [
        "sumed = lambda x,y: x+y"
      ],
      "metadata": {
        "id": "sSEfoOvDCytk"
      },
      "execution_count": null,
      "outputs": []
    },
    {
      "cell_type": "code",
      "source": [
        "sumed(10,30)"
      ],
      "metadata": {
        "colab": {
          "base_uri": "https://localhost:8080/"
        },
        "id": "IEmQl_mXDjck",
        "outputId": "c09ea566-b836-481c-b759-43f291cfdec5"
      },
      "execution_count": null,
      "outputs": [
        {
          "output_type": "execute_result",
          "data": {
            "text/plain": [
              "40"
            ]
          },
          "metadata": {},
          "execution_count": 20
        }
      ]
    },
    {
      "cell_type": "code",
      "source": [
        "name = lambda f_name,l_name: f_name.strip().title() + \" \" + l_name.strip().capitalize()"
      ],
      "metadata": {
        "id": "zpc6UyrmDma6"
      },
      "execution_count": null,
      "outputs": []
    },
    {
      "cell_type": "code",
      "source": [
        "name('  coco  ', '  sulaiman  ')"
      ],
      "metadata": {
        "colab": {
          "base_uri": "https://localhost:8080/",
          "height": 35
        },
        "id": "Kheqn6ZiEpKk",
        "outputId": "e0de28cf-f217-44c3-a881-00028cfad88c"
      },
      "execution_count": null,
      "outputs": [
        {
          "output_type": "execute_result",
          "data": {
            "text/plain": [
              "'Coco Sulaiman'"
            ],
            "application/vnd.google.colaboratory.intrinsic+json": {
              "type": "string"
            }
          },
          "metadata": {},
          "execution_count": 24
        }
      ]
    },
    {
      "cell_type": "markdown",
      "source": [
        "## Scope"
      ],
      "metadata": {
        "id": "FmV-9EIwFoef"
      }
    },
    {
      "cell_type": "code",
      "source": [
        "# Global Variable\n",
        "name = 'James'\n",
        "\n",
        "def happy():\n",
        "  global name\n",
        "  # Local variable\n",
        "  name = 'Zainab'\n",
        "  print(name)\n",
        "\n",
        "print(name)\n",
        "happy()\n",
        "print(name)"
      ],
      "metadata": {
        "colab": {
          "base_uri": "https://localhost:8080/"
        },
        "id": "LEx52D5pE0DP",
        "outputId": "76824191-cbb9-427d-d0fa-72665824b6bd"
      },
      "execution_count": null,
      "outputs": [
        {
          "output_type": "stream",
          "name": "stdout",
          "text": [
            "James\n",
            "Zainab\n",
            "Zainab\n"
          ]
        }
      ]
    },
    {
      "cell_type": "markdown",
      "source": [
        "## module or library"
      ],
      "metadata": {
        "id": "QQabfnzBHPc8"
      }
    },
    {
      "cell_type": "code",
      "source": [
        "import random\n",
        "import math"
      ],
      "metadata": {
        "id": "s2b5zr-2GKiG"
      },
      "execution_count": null,
      "outputs": []
    },
    {
      "cell_type": "code",
      "source": [
        "random.randint(0,10)"
      ],
      "metadata": {
        "colab": {
          "base_uri": "https://localhost:8080/"
        },
        "id": "3UpoIDDsINoD",
        "outputId": "7874bf09-2c48-4cb9-e22c-ca70ca830b82"
      },
      "execution_count": null,
      "outputs": [
        {
          "output_type": "execute_result",
          "data": {
            "text/plain": [
              "1"
            ]
          },
          "metadata": {},
          "execution_count": 35
        }
      ]
    },
    {
      "cell_type": "code",
      "source": [
        "fruits = ['Banana','Mango','Orange','Apple','Pineapple']"
      ],
      "metadata": {
        "id": "OE9Ak3eOI1P7"
      },
      "execution_count": null,
      "outputs": []
    },
    {
      "cell_type": "code",
      "source": [
        "random.choice(fruits)"
      ],
      "metadata": {
        "colab": {
          "base_uri": "https://localhost:8080/",
          "height": 35
        },
        "id": "Pg_V4EvjJG1o",
        "outputId": "3f5354cd-4491-493c-c42b-ae837bbf52b6"
      },
      "execution_count": null,
      "outputs": [
        {
          "output_type": "execute_result",
          "data": {
            "text/plain": [
              "'Apple'"
            ],
            "application/vnd.google.colaboratory.intrinsic+json": {
              "type": "string"
            }
          },
          "metadata": {},
          "execution_count": 37
        }
      ]
    },
    {
      "cell_type": "code",
      "source": [
        "index = random.randint(0,4)\n",
        "fruits[index]"
      ],
      "metadata": {
        "colab": {
          "base_uri": "https://localhost:8080/",
          "height": 35
        },
        "id": "qRwRAE1EJWI8",
        "outputId": "fa215ecf-5924-4dce-c1d0-7c5f5aa55ec8"
      },
      "execution_count": null,
      "outputs": [
        {
          "output_type": "execute_result",
          "data": {
            "text/plain": [
              "'Pineapple'"
            ],
            "application/vnd.google.colaboratory.intrinsic+json": {
              "type": "string"
            }
          },
          "metadata": {},
          "execution_count": 39
        }
      ]
    },
    {
      "cell_type": "code",
      "source": [
        "math.ceil(23.6)"
      ],
      "metadata": {
        "colab": {
          "base_uri": "https://localhost:8080/"
        },
        "id": "Cfz8t2bkJxs2",
        "outputId": "4de47637-f243-434d-a1e8-8aef7b431909"
      },
      "execution_count": null,
      "outputs": [
        {
          "output_type": "execute_result",
          "data": {
            "text/plain": [
              "24"
            ]
          },
          "metadata": {},
          "execution_count": 40
        }
      ]
    },
    {
      "cell_type": "code",
      "source": [
        "round(23.6)"
      ],
      "metadata": {
        "colab": {
          "base_uri": "https://localhost:8080/"
        },
        "id": "B38n_7SgKa71",
        "outputId": "237058d1-9470-4b15-faa1-e08434e63425"
      },
      "execution_count": null,
      "outputs": [
        {
          "output_type": "execute_result",
          "data": {
            "text/plain": [
              "24"
            ]
          },
          "metadata": {},
          "execution_count": 41
        }
      ]
    },
    {
      "cell_type": "code",
      "source": [
        "math.floor(23.6)"
      ],
      "metadata": {
        "colab": {
          "base_uri": "https://localhost:8080/"
        },
        "id": "Sko09tXuKrWY",
        "outputId": "8ad3abd3-7f10-4c93-f516-102e872864d0"
      },
      "execution_count": null,
      "outputs": [
        {
          "output_type": "execute_result",
          "data": {
            "text/plain": [
              "23"
            ]
          },
          "metadata": {},
          "execution_count": 42
        }
      ]
    },
    {
      "cell_type": "code",
      "source": [
        "math.floor(23/2)"
      ],
      "metadata": {
        "colab": {
          "base_uri": "https://localhost:8080/"
        },
        "id": "dJiH85IsKyaF",
        "outputId": "b7cf4643-c81b-47c8-eeee-5529e5b7de4c"
      },
      "execution_count": null,
      "outputs": [
        {
          "output_type": "execute_result",
          "data": {
            "text/plain": [
              "11"
            ]
          },
          "metadata": {},
          "execution_count": 43
        }
      ]
    },
    {
      "cell_type": "code",
      "source": [
        "23 // 2"
      ],
      "metadata": {
        "colab": {
          "base_uri": "https://localhost:8080/"
        },
        "id": "WPYuNKipK5U4",
        "outputId": "8b603a35-81b0-4fd6-9305-c7e68ae3b84b"
      },
      "execution_count": null,
      "outputs": [
        {
          "output_type": "execute_result",
          "data": {
            "text/plain": [
              "11"
            ]
          },
          "metadata": {},
          "execution_count": 44
        }
      ]
    },
    {
      "cell_type": "code",
      "source": [
        "math.ceil(23/2)"
      ],
      "metadata": {
        "colab": {
          "base_uri": "https://localhost:8080/"
        },
        "id": "8MXClBx5K7wl",
        "outputId": "e60669e6-68f0-4c5c-f691-a93b1254366b"
      },
      "execution_count": null,
      "outputs": [
        {
          "output_type": "execute_result",
          "data": {
            "text/plain": [
              "12"
            ]
          },
          "metadata": {},
          "execution_count": 46
        }
      ]
    },
    {
      "cell_type": "code",
      "source": [
        "math.ceil(math.pow(5,2))"
      ],
      "metadata": {
        "colab": {
          "base_uri": "https://localhost:8080/"
        },
        "id": "pmWawe2rLDeW",
        "outputId": "93dfc9ec-2d6f-49b6-dcaf-59a389fc5818"
      },
      "execution_count": null,
      "outputs": [
        {
          "output_type": "execute_result",
          "data": {
            "text/plain": [
              "25"
            ]
          },
          "metadata": {},
          "execution_count": 48
        }
      ]
    },
    {
      "cell_type": "markdown",
      "source": [
        "## Create a calculator program that uses fuctions for different operations(addition, subtraction, multiplication, division). Allows users to input two numbers and choose an operation."
      ],
      "metadata": {
        "id": "mmoThI9XL_4y"
      }
    },
    {
      "cell_type": "code",
      "source": [
        "# write a print statement that will introduce the calculator funtion.\n",
        "# create 3 variable that will allow users to input the first number, 2nd number,\n",
        "# and to choose the operation they want to perform\n",
        "# Create a conditional statement\n",
        "# using if operation is equivalent to '+' under the if create a fuction that\n",
        "## will sum up two numbers and the values that should be passed into the\n",
        "## functions should correspond to the first number and 2nd num.\n",
        "## using elif repeat these processes for '-','*','/'"
      ],
      "metadata": {
        "id": "17hJaB-oLY7C"
      },
      "execution_count": null,
      "outputs": []
    }
  ]
}