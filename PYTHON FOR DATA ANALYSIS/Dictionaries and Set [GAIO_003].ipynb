{
 "cells": [
  {
   "cell_type": "code",
   "execution_count": null,
   "id": "50eb8534-1be2-49b4-b36d-6d37dea14000",
   "metadata": {},
   "outputs": [],
   "source": [
    "# Dictionaries: collection, unordered, key-value pairs, mutable."
   ]
  },
  {
   "cell_type": "code",
   "execution_count": 5,
   "id": "9e05412b-937f-4673-8605-9b7d7e019a96",
   "metadata": {},
   "outputs": [],
   "source": [
    "# creating a dictionary\n",
    "# example 1\n",
    "attendance = {'Rita': 'Present1', 'Chukwuemeka':'Present2', 'Fortune':'Present3', 'Muhammad':'Absent1'} "
   ]
  },
  {
   "cell_type": "code",
   "execution_count": 7,
   "id": "6318c576-a89f-40b3-b380-43c5fd5249b5",
   "metadata": {},
   "outputs": [
    {
     "data": {
      "text/plain": [
       "'Present3'"
      ]
     },
     "execution_count": 7,
     "metadata": {},
     "output_type": "execute_result"
    }
   ],
   "source": [
    "attendance['Fortune']"
   ]
  },
  {
   "cell_type": "code",
   "execution_count": 9,
   "id": "fceaadfc-95cf-4be3-9cfe-e38fe07dc4ef",
   "metadata": {},
   "outputs": [],
   "source": [
    "attendance['Muhammad'] = 'Present4'"
   ]
  },
  {
   "cell_type": "code",
   "execution_count": 10,
   "id": "4451ff5f-0d4e-4ca8-939f-2328ae1e4fe0",
   "metadata": {},
   "outputs": [
    {
     "data": {
      "text/plain": [
       "'Present4'"
      ]
     },
     "execution_count": 10,
     "metadata": {},
     "output_type": "execute_result"
    }
   ],
   "source": [
    "attendance['Muhammad']"
   ]
  },
  {
   "cell_type": "code",
   "execution_count": 11,
   "id": "da68da59-01b0-4ef2-b691-55d2904ee96b",
   "metadata": {},
   "outputs": [],
   "source": [
    "attendance['KSJO'] = 'Present5'"
   ]
  },
  {
   "cell_type": "code",
   "execution_count": 12,
   "id": "348a7089-1b39-4c93-8c02-3ae4f2c6c97b",
   "metadata": {},
   "outputs": [
    {
     "name": "stdout",
     "output_type": "stream",
     "text": [
      "{'Rita': 'Present1', 'Chukwuemeka': 'Present2', 'Fortune': 'Present3', 'Muhammad': 'Present4', 'KSJO': 'Present5'}\n"
     ]
    }
   ],
   "source": [
    "print(attendance)"
   ]
  },
  {
   "cell_type": "code",
   "execution_count": 14,
   "id": "31f14e52-3ec3-482b-82b4-7575995d00d0",
   "metadata": {},
   "outputs": [],
   "source": [
    "# example 2\n",
    "my_list = ['Rita', 21, 'Barnawa', 'ML']\n",
    "my_dict = {'Name': 'Rita', 'Age': 21, 'Location': 'Barnawa', 'Interest': 'ML'}"
   ]
  },
  {
   "cell_type": "code",
   "execution_count": 15,
   "id": "0264664e-b273-4065-b628-4fd3980a2b27",
   "metadata": {},
   "outputs": [],
   "source": [
    "# dictionary methods: values, keys, items, get, "
   ]
  },
  {
   "cell_type": "code",
   "execution_count": 16,
   "id": "8f4af1b3-cfbd-4173-8aab-e9ec8d1021ab",
   "metadata": {},
   "outputs": [
    {
     "data": {
      "text/plain": [
       "['__class__',\n",
       " '__class_getitem__',\n",
       " '__contains__',\n",
       " '__delattr__',\n",
       " '__delitem__',\n",
       " '__dir__',\n",
       " '__doc__',\n",
       " '__eq__',\n",
       " '__format__',\n",
       " '__ge__',\n",
       " '__getattribute__',\n",
       " '__getitem__',\n",
       " '__getstate__',\n",
       " '__gt__',\n",
       " '__hash__',\n",
       " '__init__',\n",
       " '__init_subclass__',\n",
       " '__ior__',\n",
       " '__iter__',\n",
       " '__le__',\n",
       " '__len__',\n",
       " '__lt__',\n",
       " '__ne__',\n",
       " '__new__',\n",
       " '__or__',\n",
       " '__reduce__',\n",
       " '__reduce_ex__',\n",
       " '__repr__',\n",
       " '__reversed__',\n",
       " '__ror__',\n",
       " '__setattr__',\n",
       " '__setitem__',\n",
       " '__sizeof__',\n",
       " '__str__',\n",
       " '__subclasshook__',\n",
       " 'clear',\n",
       " 'copy',\n",
       " 'fromkeys',\n",
       " 'get',\n",
       " 'items',\n",
       " 'keys',\n",
       " 'pop',\n",
       " 'popitem',\n",
       " 'setdefault',\n",
       " 'update',\n",
       " 'values']"
      ]
     },
     "execution_count": 16,
     "metadata": {},
     "output_type": "execute_result"
    }
   ],
   "source": [
    "dir(my_dict)"
   ]
  },
  {
   "cell_type": "code",
   "execution_count": null,
   "id": "a6a096c0-1f36-41a0-8ac3-d27ef4c6aa36",
   "metadata": {},
   "outputs": [],
   "source": [
    "'clear',\n",
    " 'copy',\n",
    " 'fromkeys',\n",
    " 'get',\n",
    " 'items',\n",
    " 'keys',\n",
    " 'pop',\n",
    " 'popitem',\n",
    " 'setdefault',\n",
    " 'update',\n",
    " 'values'"
   ]
  },
  {
   "cell_type": "code",
   "execution_count": 17,
   "id": "2aa440b1-2229-4c8d-9214-1c776afdda45",
   "metadata": {},
   "outputs": [
    {
     "data": {
      "text/plain": [
       "dict_keys(['Name', 'Age', 'Location', 'Interest'])"
      ]
     },
     "execution_count": 17,
     "metadata": {},
     "output_type": "execute_result"
    }
   ],
   "source": [
    "my_dict.keys()"
   ]
  },
  {
   "cell_type": "code",
   "execution_count": 18,
   "id": "159ba6cd-5846-4bbf-a417-c496fda75cb0",
   "metadata": {},
   "outputs": [
    {
     "data": {
      "text/plain": [
       "dict_items([('Name', 'Rita'), ('Age', 21), ('Location', 'Barnawa'), ('Interest', 'ML')])"
      ]
     },
     "execution_count": 18,
     "metadata": {},
     "output_type": "execute_result"
    }
   ],
   "source": [
    "my_dict.items()"
   ]
  },
  {
   "cell_type": "code",
   "execution_count": 21,
   "id": "67b770fa-33b0-4b4c-8561-d2434e34b032",
   "metadata": {},
   "outputs": [],
   "source": [
    "emotion_map = [('Rita', 'Happy'), ('Kamiye', 'Curious'), ('Fortune', 'Fortunate'), ('Chukwuemeka', 'Amused'), \n",
    "('Muhammad', 'Exhausted')]"
   ]
  },
  {
   "cell_type": "code",
   "execution_count": 22,
   "id": "ae4a35af-7d46-46fe-a706-24b30fcaf423",
   "metadata": {},
   "outputs": [],
   "source": [
    "emotion_map = dict(emotion_map)"
   ]
  },
  {
   "cell_type": "code",
   "execution_count": 25,
   "id": "f333c1a6-04a7-4970-b680-0f7d6444ba77",
   "metadata": {},
   "outputs": [
    {
     "data": {
      "text/plain": [
       "'Curious'"
      ]
     },
     "execution_count": 25,
     "metadata": {},
     "output_type": "execute_result"
    }
   ],
   "source": [
    "emotion_map['Kamiye']"
   ]
  },
  {
   "cell_type": "code",
   "execution_count": 26,
   "id": "465c9700-e13f-4bec-95d9-97431a96c14a",
   "metadata": {},
   "outputs": [
    {
     "data": {
      "text/plain": [
       "\u001b[1;31mSignature:\u001b[0m \u001b[0memotion_map\u001b[0m\u001b[1;33m.\u001b[0m\u001b[0mget\u001b[0m\u001b[1;33m(\u001b[0m\u001b[0mkey\u001b[0m\u001b[1;33m,\u001b[0m \u001b[0mdefault\u001b[0m\u001b[1;33m=\u001b[0m\u001b[1;32mNone\u001b[0m\u001b[1;33m,\u001b[0m \u001b[1;33m/\u001b[0m\u001b[1;33m)\u001b[0m\u001b[1;33m\u001b[0m\u001b[1;33m\u001b[0m\u001b[0m\n",
       "\u001b[1;31mDocstring:\u001b[0m Return the value for key if key is in the dictionary, else default.\n",
       "\u001b[1;31mType:\u001b[0m      builtin_function_or_method"
      ]
     },
     "metadata": {},
     "output_type": "display_data"
    }
   ],
   "source": [
    "emotion_map.get??"
   ]
  },
  {
   "cell_type": "code",
   "execution_count": 28,
   "id": "17685cd7-dd98-4473-ba7d-515265f0ef4d",
   "metadata": {},
   "outputs": [
    {
     "name": "stdout",
     "output_type": "stream",
     "text": [
      "Help on built-in function get:\n",
      "\n",
      "get(key, default=None, /) method of builtins.dict instance\n",
      "    Return the value for key if key is in the dictionary, else default.\n",
      "\n"
     ]
    }
   ],
   "source": [
    "help(emotion_map.get)"
   ]
  },
  {
   "cell_type": "code",
   "execution_count": 29,
   "id": "dcd65d92-6733-4233-836f-79dd7c8edd00",
   "metadata": {},
   "outputs": [
    {
     "data": {
      "text/plain": [
       "'Happy'"
      ]
     },
     "execution_count": 29,
     "metadata": {},
     "output_type": "execute_result"
    }
   ],
   "source": [
    "emotion_map.get('Rita', 'Indifferent')"
   ]
  },
  {
   "cell_type": "code",
   "execution_count": 31,
   "id": "a0b0b430-efa7-4559-91c1-521cc9a0d9bd",
   "metadata": {},
   "outputs": [],
   "source": [
    "# CRUD - create, read, update, delete\n",
    "\n",
    "store_items = {}"
   ]
  },
  {
   "cell_type": "code",
   "execution_count": 33,
   "id": "ec86082e-513c-4653-a3c9-aa96e886b1c8",
   "metadata": {},
   "outputs": [],
   "source": [
    "store_items.update({'Paracetamol': ['25mg', '50mg', '75mg', '100mg']})"
   ]
  },
  {
   "cell_type": "code",
   "execution_count": 34,
   "id": "40b8e002-9616-4217-a9e9-1680459f3bb7",
   "metadata": {},
   "outputs": [
    {
     "data": {
      "text/plain": [
       "{'Paracetamol': ['25mg', '50mg', '75mg', '100mg']}"
      ]
     },
     "execution_count": 34,
     "metadata": {},
     "output_type": "execute_result"
    }
   ],
   "source": [
    "store_items"
   ]
  },
  {
   "cell_type": "code",
   "execution_count": 35,
   "id": "a013069e-ae83-4c9e-ad06-e37c57fec11f",
   "metadata": {},
   "outputs": [
    {
     "data": {
      "text/plain": [
       "['25mg', '50mg', '75mg', '100mg']"
      ]
     },
     "execution_count": 35,
     "metadata": {},
     "output_type": "execute_result"
    }
   ],
   "source": [
    "# read \n",
    "store_items['Paracetamol']"
   ]
  },
  {
   "cell_type": "code",
   "execution_count": 36,
   "id": "510b4d0b-5262-43ba-9f3d-5ec0426cd23d",
   "metadata": {},
   "outputs": [],
   "source": [
    "#update\n",
    "\n",
    "store_items.update({'Vitamin C': ['10mg', '20mg', '30mg', '40mg']})"
   ]
  },
  {
   "cell_type": "code",
   "execution_count": 37,
   "id": "a6394c51-2547-49c8-9bdf-69754c15e2c7",
   "metadata": {},
   "outputs": [
    {
     "data": {
      "text/plain": [
       "{'Paracetamol': ['25mg', '50mg', '75mg', '100mg'],\n",
       " 'Vitamin C': ['10mg', '20mg', '30mg', '40mg']}"
      ]
     },
     "execution_count": 37,
     "metadata": {},
     "output_type": "execute_result"
    }
   ],
   "source": [
    "store_items"
   ]
  },
  {
   "cell_type": "code",
   "execution_count": 38,
   "id": "0a67b2b4-29a7-4e5c-acc8-f7336769384c",
   "metadata": {},
   "outputs": [
    {
     "name": "stdin",
     "output_type": "stream",
     "text": [
      "Enter drug name:  Diclofenac\n",
      "Enter dosage, separate with a comma 30mg, 24mg, 70mg, 90mg\n"
     ]
    },
    {
     "data": {
      "text/plain": [
       "{'Paracetamol': ['25mg', '50mg', '75mg', '100mg'],\n",
       " 'Vitamin C': ['10mg', '20mg', '30mg', '40mg'],\n",
       " 'Diclofenac': ['30mg', ' 24mg', ' 70mg', ' 90mg']}"
      ]
     },
     "execution_count": 38,
     "metadata": {},
     "output_type": "execute_result"
    }
   ],
   "source": [
    "drug_name = input('Enter drug name: ').title()\n",
    "dosage = input('Enter dosage, separate with a comma').split(',')\n",
    "\n",
    "store_items.update({drug_name: dosage})\n",
    "store_items"
   ]
  },
  {
   "cell_type": "code",
   "execution_count": null,
   "id": "680c5f52-76dd-42dd-993c-7df536457825",
   "metadata": {},
   "outputs": [],
   "source": [
    "Make a pharmacy inventory management system, where we store information on price, quantity, expiry date, stock value"
   ]
  },
  {
   "cell_type": "code",
   "execution_count": 41,
   "id": "afd5232f-aa5a-4d39-8f1b-0047c9c216d0",
   "metadata": {},
   "outputs": [],
   "source": [
    "fortune_pharm = {'PCM500mg' : {'Price': 200, 'Quantity': 300, 'Expiry Date': '30-12-2027', 'Stock Value': 6}}"
   ]
  },
  {
   "cell_type": "code",
   "execution_count": 43,
   "id": "72c1ab3a-fc8b-4f42-ae46-6530543aff7a",
   "metadata": {},
   "outputs": [
    {
     "data": {
      "text/plain": [
       "200"
      ]
     },
     "execution_count": 43,
     "metadata": {},
     "output_type": "execute_result"
    }
   ],
   "source": [
    "fortune_pharm['PCM500mg']"
   ]
  },
  {
   "cell_type": "code",
   "execution_count": 45,
   "id": "0cbedbaf-1328-4c5f-b007-9e37e018570d",
   "metadata": {},
   "outputs": [
    {
     "name": "stdin",
     "output_type": "stream",
     "text": [
      "Enter drug name:  ampiclox\n",
      "Enter price for Ampiclox 500\n",
      "Enter quantity for Ampiclox 400\n",
      "Enter expiry date for Ampiclox 23-08-2025\n",
      "Enter stock value for Ampiclox 8\n"
     ]
    },
    {
     "data": {
      "text/plain": [
       "{'PCM500mg': {'Price': 200,\n",
       "  'Quantity': 300,\n",
       "  'Expiry Date': '30-12-2027',\n",
       "  'Stock Value': 6},\n",
       " 'Ampiclox': {'Price': 500.0,\n",
       "  'Quantity': 400,\n",
       "  'Expiry Date': '23-08-2025',\n",
       "  'Stock Value': 8}}"
      ]
     },
     "execution_count": 45,
     "metadata": {},
     "output_type": "execute_result"
    }
   ],
   "source": [
    "drug_name = input('Enter drug name: ').title()\n",
    "price = float(input(f'Enter price for {drug_name}'))\n",
    "quantity = int(input(f'Enter quantity for {drug_name}'))\n",
    "expiry_date = input(f'Enter expiry date for {drug_name}')\n",
    "stock_value = int(input(f'Enter stock value for {drug_name}'))\n",
    "\n",
    "\n",
    "fortune_pharm.update({drug_name: {'Price': price, 'Quantity': quantity, 'Expiry Date': expiry_date, 'Stock Value': stock_value}})\n",
    "fortune_pharm"
   ]
  },
  {
   "cell_type": "code",
   "execution_count": 49,
   "id": "97ac240e-b58b-4309-91bf-d94f8a0360dc",
   "metadata": {},
   "outputs": [
    {
     "name": "stdin",
     "output_type": "stream",
     "text": [
      "Enter Drug Name:  ampiclox\n"
     ]
    },
    {
     "data": {
      "text/plain": [
       "{'Price': 500.0,\n",
       " 'Quantity': 400,\n",
       " 'Expiry Date': '23-08-2025',\n",
       " 'Stock Value': 8}"
      ]
     },
     "execution_count": 49,
     "metadata": {},
     "output_type": "execute_result"
    }
   ],
   "source": [
    "# look up the drug records\n",
    "drug_name = input('Enter Drug Name: ').title()\n",
    "fortune_pharm.get(drug_name, f'{drug_name} is not found')"
   ]
  },
  {
   "cell_type": "code",
   "execution_count": 52,
   "id": "eaaf4140-e6e6-4842-856e-88f3f70ba2c4",
   "metadata": {},
   "outputs": [],
   "source": [
    "fortune_pharm['Ampiclox']['Price'] = 650.0"
   ]
  },
  {
   "cell_type": "code",
   "execution_count": 53,
   "id": "c5235092-c06a-428b-bf87-9f30729730f7",
   "metadata": {},
   "outputs": [
    {
     "data": {
      "text/plain": [
       "650.0"
      ]
     },
     "execution_count": 53,
     "metadata": {},
     "output_type": "execute_result"
    }
   ],
   "source": [
    "fortune_pharm['Ampiclox']['Price']"
   ]
  },
  {
   "cell_type": "code",
   "execution_count": 58,
   "id": "09cead2a-98a2-45c2-9e9d-28ccec30afd1",
   "metadata": {},
   "outputs": [],
   "source": [
    "# sets: unordered, collection, unique elements\n",
    "\n",
    "gaio = {'Rita', 'Chukwuemeka', 'Fortune', 'Muhammad', 'Kamiye', 'Demola', 'Gideon', 'Rita', 'Fortune'} "
   ]
  },
  {
   "cell_type": "code",
   "execution_count": 59,
   "id": "8e7b2e5d-735b-4726-9d63-1dbdc31e18ca",
   "metadata": {},
   "outputs": [
    {
     "data": {
      "text/plain": [
       "{'Chukwuemeka', 'Demola', 'Fortune', 'Gideon', 'Kamiye', 'Muhammad', 'Rita'}"
      ]
     },
     "execution_count": 59,
     "metadata": {},
     "output_type": "execute_result"
    }
   ],
   "source": [
    "gaio"
   ]
  },
  {
   "cell_type": "code",
   "execution_count": 61,
   "id": "ce591e48-54ad-4dd0-bc9c-d1e31d0b73b9",
   "metadata": {},
   "outputs": [],
   "source": [
    "gaio.add('Master Jboy')"
   ]
  },
  {
   "cell_type": "code",
   "execution_count": 62,
   "id": "ff6789c5-42ab-4ec0-957b-a2a78ba78975",
   "metadata": {},
   "outputs": [
    {
     "data": {
      "text/plain": [
       "{'Chukwuemeka',\n",
       " 'Demola',\n",
       " 'Fortune',\n",
       " 'Gideon',\n",
       " 'Kamiye',\n",
       " 'Master Jboy',\n",
       " 'Muhammad',\n",
       " 'Rita'}"
      ]
     },
     "execution_count": 62,
     "metadata": {},
     "output_type": "execute_result"
    }
   ],
   "source": [
    "gaio"
   ]
  },
  {
   "cell_type": "code",
   "execution_count": 64,
   "id": "22530259-fbd6-4791-86e9-3bd3adec42b5",
   "metadata": {},
   "outputs": [
    {
     "data": {
      "text/plain": [
       "True"
      ]
     },
     "execution_count": 64,
     "metadata": {},
     "output_type": "execute_result"
    }
   ],
   "source": [
    "# sets do not use indexing\n",
    "'Kamiye' in gaio"
   ]
  },
  {
   "cell_type": "code",
   "execution_count": 65,
   "id": "3e193282-cc5f-4d7d-8744-ff40b01c0703",
   "metadata": {},
   "outputs": [],
   "source": [
    "gaio.remove('Fortune')"
   ]
  },
  {
   "cell_type": "code",
   "execution_count": 66,
   "id": "f5d8aa2e-6932-4000-9baf-c5410b6761d3",
   "metadata": {},
   "outputs": [
    {
     "data": {
      "text/plain": [
       "{'Chukwuemeka',\n",
       " 'Demola',\n",
       " 'Gideon',\n",
       " 'Kamiye',\n",
       " 'Master Jboy',\n",
       " 'Muhammad',\n",
       " 'Rita'}"
      ]
     },
     "execution_count": 66,
     "metadata": {},
     "output_type": "execute_result"
    }
   ],
   "source": [
    "gaio"
   ]
  },
  {
   "cell_type": "code",
   "execution_count": 67,
   "id": "8f864f4a-252b-43e3-8cbf-02ba52486495",
   "metadata": {},
   "outputs": [
    {
     "data": {
      "text/plain": [
       "{'Chukwuemeka', 'Demola', 'Fortune', 'Gideon', 'Kamiye', 'Muhammad', 'Rita'}"
      ]
     },
     "execution_count": 67,
     "metadata": {},
     "output_type": "execute_result"
    }
   ],
   "source": [
    "# union, intersection, difference\n",
    "bio = {'Rita', 'Chukwuemeka', 'Fortune', 'Muhammad'}\n",
    "chem = {'Muhammad', 'Kamiye', 'Demola', 'Gideon'}\n",
    "phy = {'Kamiye', 'Demola', 'Gideon', 'Rita', 'Fortune'}\n",
    "\n"
   ]
  },
  {
   "cell_type": "code",
   "execution_count": 68,
   "id": "a564b2cc-d658-4ac9-9b8b-561d4ccd8b6b",
   "metadata": {},
   "outputs": [
    {
     "data": {
      "text/plain": [
       "{'Chukwuemeka', 'Demola', 'Fortune', 'Gideon', 'Kamiye', 'Muhammad', 'Rita'}"
      ]
     },
     "execution_count": 68,
     "metadata": {},
     "output_type": "execute_result"
    }
   ],
   "source": [
    "# all student who take either bio or chem\n",
    "bio.union(chem)"
   ]
  },
  {
   "cell_type": "code",
   "execution_count": 69,
   "id": "95fa4e17-f6f1-4403-b702-6bf9b32ad929",
   "metadata": {},
   "outputs": [
    {
     "data": {
      "text/plain": [
       "{'Fortune', 'Rita'}"
      ]
     },
     "execution_count": 69,
     "metadata": {},
     "output_type": "execute_result"
    }
   ],
   "source": [
    "# student who take bio and phyics\n",
    "bio.intersection(phy)"
   ]
  },
  {
   "cell_type": "code",
   "execution_count": 73,
   "id": "df928ce4-ecae-4aba-b243-f40674703dd5",
   "metadata": {},
   "outputs": [
    {
     "data": {
      "text/plain": [
       "{'Muhammad'}"
      ]
     },
     "execution_count": 73,
     "metadata": {},
     "output_type": "execute_result"
    }
   ],
   "source": [
    "chem.difference(phy)"
   ]
  },
  {
   "cell_type": "code",
   "execution_count": 79,
   "id": "15068e3e-37e6-41e0-8db2-ff1207799c3c",
   "metadata": {},
   "outputs": [],
   "source": [
    "new_set = {('load_balancer'),}"
   ]
  },
  {
   "cell_type": "code",
   "execution_count": 80,
   "id": "ece9fbc3-ed6d-409e-9b1c-54d2837ec7e1",
   "metadata": {},
   "outputs": [
    {
     "data": {
      "text/plain": [
       "set"
      ]
     },
     "execution_count": 80,
     "metadata": {},
     "output_type": "execute_result"
    }
   ],
   "source": [
    "type(new_set)"
   ]
  },
  {
   "cell_type": "code",
   "execution_count": null,
   "id": "acd7bc5e-7065-4532-be78-f52d2a56fcdf",
   "metadata": {},
   "outputs": [],
   "source": []
  }
 ],
 "metadata": {
  "kernelspec": {
   "display_name": "Python 3 (ipykernel)",
   "language": "python",
   "name": "python3"
  },
  "language_info": {
   "codemirror_mode": {
    "name": "ipython",
    "version": 3
   },
   "file_extension": ".py",
   "mimetype": "text/x-python",
   "name": "python",
   "nbconvert_exporter": "python",
   "pygments_lexer": "ipython3",
   "version": "3.11.7"
  }
 },
 "nbformat": 4,
 "nbformat_minor": 5
}
