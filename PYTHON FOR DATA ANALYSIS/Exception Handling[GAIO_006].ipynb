{
 "cells": [
  {
   "cell_type": "markdown",
   "id": "87567321",
   "metadata": {},
   "source": [
    "#### Understanding Exceptions\n",
    "\n",
    "Exception handling in Python allows you to handle errors gracefully and take corrective actions without stopping the execution of the program. This lesson will cover the basics of exceptions, including how to use try, except, else, and finally blocks."
   ]
  },
  {
   "cell_type": "markdown",
   "id": "9ad5786e",
   "metadata": {},
   "source": [
    "##### What Are Exceptions?\n",
    "Exceptions are events that disrupt the normal flow of a program. They occur when an error is encountered during program execution. Common exceptions include:\n",
    "\n",
    "- ZeroDivisionError: Dividing by zero.\n",
    "- FileNotFoundError: File not found.\n",
    "- ValueError: Invalid value.\n",
    "- TypeError: Invalid type."
   ]
  },
  {
   "cell_type": "markdown",
   "id": "828bb0f9",
   "metadata": {},
   "source": [
    "### key words for exception handling\n",
    "#### try: when trying to execute something that can cause an error\n",
    "#### except: execute when you come across an error\n",
    "#### else: execute when an error is not come accrossed\n",
    "#### finally: executes no matter what."
   ]
  },
  {
   "cell_type": "markdown",
   "id": "7eeb4034",
   "metadata": {},
   "source": [
    "### Steps in identifying errors\n",
    "#### You Describe your error\n",
    "#### Reproduce the bug\n",
    "#### Play computer\n",
    "#### Fix error\n",
    "#### Use the print fuction\n",
    "#### Use a debugger\n",
    "#### Take a break\n",
    "#### Ask a friend\n",
    "#### Run often\n",
    "#### Stack overflow\n",
    "#### ?"
   ]
  },
  {
   "cell_type": "code",
   "execution_count": null,
   "id": "524cf105",
   "metadata": {},
   "outputs": [],
   "source": [
    "# exception for ZeroDivisionError"
   ]
  },
  {
   "cell_type": "code",
   "execution_count": null,
   "id": "6634e220",
   "metadata": {},
   "outputs": [],
   "source": [
    "# exception for ValueError"
   ]
  },
  {
   "cell_type": "code",
   "execution_count": null,
   "id": "0ce19342",
   "metadata": {},
   "outputs": [],
   "source": [
    "# exception for TypeError"
   ]
  },
  {
   "cell_type": "code",
   "execution_count": null,
   "id": "683a547d",
   "metadata": {},
   "outputs": [],
   "source": [
    "# dealing with files\n",
    "# how to open a files"
   ]
  },
  {
   "cell_type": "code",
   "execution_count": null,
   "id": "99576103",
   "metadata": {},
   "outputs": [],
   "source": [
    "# exception for FileNotFoundError"
   ]
  },
  {
   "cell_type": "code",
   "execution_count": null,
   "id": "6d03edf2",
   "metadata": {},
   "outputs": [],
   "source": []
  }
 ],
 "metadata": {
  "kernelspec": {
   "display_name": "Python 3 (ipykernel)",
   "language": "python",
   "name": "python3"
  },
  "language_info": {
   "codemirror_mode": {
    "name": "ipython",
    "version": 3
   },
   "file_extension": ".py",
   "mimetype": "text/x-python",
   "name": "python",
   "nbconvert_exporter": "python",
   "pygments_lexer": "ipython3",
   "version": "3.11.7"
  }
 },
 "nbformat": 4,
 "nbformat_minor": 5
}
