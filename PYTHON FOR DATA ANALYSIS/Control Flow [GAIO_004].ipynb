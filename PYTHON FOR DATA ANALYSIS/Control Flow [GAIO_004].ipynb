{
 "cells": [
  {
   "cell_type": "markdown",
   "id": "64f0c2cb-a61a-401e-843a-409219bab41f",
   "metadata": {},
   "source": [
    "### Week 4: Control Flow \n",
    "##### Objective: Master control flow mechanisms in Python for decision-making and iteration. \n",
    "\n",
    "##### Topics: \n",
    "\n",
    "1. `Conditional statements (if, elif, else)`\n",
    "2. `Loops (for, while)`\n",
    "3. `List comprehension` \n"
   ]
  },
  {
   "cell_type": "markdown",
   "id": "8d77ed1c-6c67-44ea-a602-71e6f2392092",
   "metadata": {},
   "source": [
    "### Conditional Statements\n",
    "Conditional statements help us decide which block of code to execute based on certain conditions. They are used to test whether a statement is True or False"
   ]
  },
  {
   "cell_type": "markdown",
   "id": "ef46542f-1703-4806-97f5-5320d83612b5",
   "metadata": {},
   "source": [
    "### Student Admission Eligibility"
   ]
  },
  {
   "cell_type": "code",
   "execution_count": 6,
   "id": "299c61f5-87a7-44d9-bb09-aecc5d83f28a",
   "metadata": {},
   "outputs": [
    {
     "name": "stdin",
     "output_type": "stream",
     "text": [
      "Please enter your name:  Mercy\n",
      "Please enter your age:  46\n"
     ]
    },
    {
     "name": "stdout",
     "output_type": "stream",
     "text": [
      "Mercy is too aged for admission\n"
     ]
    }
   ],
   "source": [
    "name = input(\"Please enter your name: \")\n",
    "age = int(input(\"Please enter your age: \"))\n",
    "\n",
    "if age <15:\n",
    "    print(f\"{name} can't be admitted\")\n",
    "elif age>= 15 and age <= 40:\n",
    "    print(f\"{name} can be admitted to the school\")\n",
    "else:\n",
    "    print(f\"{name} is too aged for admission\")"
   ]
  },
  {
   "cell_type": "code",
   "execution_count": null,
   "id": "53ab3a1d-1635-4df1-86bb-125723c7aeab",
   "metadata": {},
   "outputs": [],
   "source": []
  },
  {
   "cell_type": "markdown",
   "id": "7b5f830c-2726-464f-b6d5-b51ab92fd6fe",
   "metadata": {},
   "source": [
    "#### Cinema Attendant"
   ]
  },
  {
   "cell_type": "code",
   "execution_count": 9,
   "id": "d2fd5c55-4312-478f-87a5-99c9474c8662",
   "metadata": {},
   "outputs": [
    {
     "name": "stdin",
     "output_type": "stream",
     "text": [
      "Please enter your name:  Mohamed\n",
      "Please enter your age:  32\n"
     ]
    },
    {
     "name": "stdout",
     "output_type": "stream",
     "text": [
      "Hello Mohamed, you are welcome! Do enjoy the show with AD46\n"
     ]
    }
   ],
   "source": [
    "name = input(\"Please enter your name: \")\n",
    "age = int(input(\"Please enter your age: \"))\n",
    "\n",
    "if age < 13:\n",
    "    print(f\"Hello {name}, you are welcome, use the code KD44\")\n",
    "elif age >=13 and age <18:\n",
    "    print(f\"Hello {name}, you are welcome to the teens show, use the code TN45\")\n",
    "else:\n",
    "    print(f\"Hello {name}, you are welcome! Do enjoy the show with AD46\")"
   ]
  },
  {
   "cell_type": "code",
   "execution_count": null,
   "id": "1eea849b-e4da-44e1-935c-a9be3c363987",
   "metadata": {},
   "outputs": [],
   "source": []
  },
  {
   "cell_type": "markdown",
   "id": "90c3fc57-948f-4ba1-890d-17c3968d4fe5",
   "metadata": {},
   "source": [
    "### Loops\n",
    "\n",
    "Loops are used to repeat a block of code multiple times. Python supports two types of loops:\n",
    "\n",
    "`For Loop:` Used when you want to iterate over a sequence (such as a list, tuple, or range).\n",
    "\n",
    "`While Loop:` Repeats as long as a certain condition is true."
   ]
  },
  {
   "cell_type": "code",
   "execution_count": 12,
   "id": "0fc6c20a-76d4-4209-b952-874c9780d35a",
   "metadata": {},
   "outputs": [
    {
     "name": "stdout",
     "output_type": "stream",
     "text": [
      "1\n",
      "2\n",
      "3\n",
      "4\n",
      "5\n",
      "6\n",
      "7\n",
      "8\n",
      "9\n",
      "10\n"
     ]
    }
   ],
   "source": [
    "Numbers = [1,2,3,4,5,6,7,8,9,10]\n",
    "\n",
    "for num in Numbers:\n",
    "    print(num)"
   ]
  },
  {
   "cell_type": "code",
   "execution_count": 13,
   "id": "4ae6e666-8b1a-43eb-a1b0-0154e7278b35",
   "metadata": {},
   "outputs": [
    {
     "name": "stdout",
     "output_type": "stream",
     "text": [
      "2\n",
      "4\n",
      "6\n",
      "8\n",
      "10\n"
     ]
    }
   ],
   "source": [
    "Numbers = [1,2,3,4,5,6,7,8,9,10]\n",
    "\n",
    "for num in Numbers:\n",
    "    if num %2 ==0:\n",
    "        print(num)"
   ]
  },
  {
   "cell_type": "code",
   "execution_count": 17,
   "id": "1cc57f56-747d-4398-8960-d25b01a737bf",
   "metadata": {},
   "outputs": [
    {
     "name": "stdout",
     "output_type": "stream",
     "text": [
      "1\n",
      "2\n",
      "3\n",
      "4\n",
      "5\n",
      "6\n",
      "7\n",
      "8\n",
      "9\n",
      "10\n"
     ]
    }
   ],
   "source": [
    "count = 0\n",
    "\n",
    "while count<10:\n",
    "    count= count+1\n",
    "    print(count)"
   ]
  },
  {
   "cell_type": "markdown",
   "id": "c22649ec-a44e-480f-9134-9aaafaf2ebb0",
   "metadata": {},
   "source": [
    "#### Student Exam Results Analyzer\n",
    "\n",
    "This Analyser works based on average score"
   ]
  },
  {
   "cell_type": "code",
   "execution_count": 22,
   "id": "182ae8e6-ff64-4f8e-bfb6-150b13630a69",
   "metadata": {},
   "outputs": [
    {
     "name": "stdin",
     "output_type": "stream",
     "text": [
      "Please enter the total number of students:  5\n",
      "Please enter your name:  James\n",
      "Please enter your score:  40\n",
      "Please enter your name:  Mohamed\n",
      "Please enter your score:  59\n",
      "Please enter your name:  Zainab\n",
      "Please enter your score:  69\n",
      "Please enter your name:  Dauda\n",
      "Please enter your score:  30\n",
      "Please enter your name:  Farida\n",
      "Please enter your score:  37\n"
     ]
    },
    {
     "name": "stdout",
     "output_type": "stream",
     "text": [
      "{'James': 40, 'Mohamed': 59, 'Zainab': 69, 'Dauda': 30, 'Farida': 37}\n"
     ]
    }
   ],
   "source": [
    "number_of_students = int(input(\"Please enter the total number of students: \"))\n",
    "\n",
    "# initialised an empty student DB\n",
    "student_database = {}\n",
    "\n",
    "for i in range(number_of_students):\n",
    "    name = input(\"Please enter your name: \")\n",
    "    score = int(input(\"Please enter your score: \"))\n",
    "    student_database[name] = score\n",
    "print(student_database)"
   ]
  },
  {
   "cell_type": "code",
   "execution_count": 23,
   "id": "dfd6ee77-f0e9-4bbf-a65a-dfd4b977e60e",
   "metadata": {},
   "outputs": [
    {
     "data": {
      "text/plain": [
       "['__class__',\n",
       " '__class_getitem__',\n",
       " '__contains__',\n",
       " '__delattr__',\n",
       " '__delitem__',\n",
       " '__dir__',\n",
       " '__doc__',\n",
       " '__eq__',\n",
       " '__format__',\n",
       " '__ge__',\n",
       " '__getattribute__',\n",
       " '__getitem__',\n",
       " '__getstate__',\n",
       " '__gt__',\n",
       " '__hash__',\n",
       " '__init__',\n",
       " '__init_subclass__',\n",
       " '__ior__',\n",
       " '__iter__',\n",
       " '__le__',\n",
       " '__len__',\n",
       " '__lt__',\n",
       " '__ne__',\n",
       " '__new__',\n",
       " '__or__',\n",
       " '__reduce__',\n",
       " '__reduce_ex__',\n",
       " '__repr__',\n",
       " '__reversed__',\n",
       " '__ror__',\n",
       " '__setattr__',\n",
       " '__setitem__',\n",
       " '__sizeof__',\n",
       " '__str__',\n",
       " '__subclasshook__',\n",
       " 'clear',\n",
       " 'copy',\n",
       " 'fromkeys',\n",
       " 'get',\n",
       " 'items',\n",
       " 'keys',\n",
       " 'pop',\n",
       " 'popitem',\n",
       " 'setdefault',\n",
       " 'update',\n",
       " 'values']"
      ]
     },
     "execution_count": 23,
     "metadata": {},
     "output_type": "execute_result"
    }
   ],
   "source": [
    "dir(student_database)"
   ]
  },
  {
   "cell_type": "code",
   "execution_count": 25,
   "id": "51fba879-53ce-484f-96a5-f85a812b28f2",
   "metadata": {},
   "outputs": [
    {
     "data": {
      "text/plain": [
       "{'James': 40, 'Mohamed': 59, 'Zainab': 69, 'Dauda': 30, 'Farida': 37}"
      ]
     },
     "execution_count": 25,
     "metadata": {},
     "output_type": "execute_result"
    }
   ],
   "source": [
    "student_database"
   ]
  },
  {
   "cell_type": "code",
   "execution_count": 24,
   "id": "126986ad-c47c-47f8-8dd1-47ff04117a1b",
   "metadata": {},
   "outputs": [
    {
     "data": {
      "text/plain": [
       "dict_values([40, 59, 69, 30, 37])"
      ]
     },
     "execution_count": 24,
     "metadata": {},
     "output_type": "execute_result"
    }
   ],
   "source": [
    "student_database.values()"
   ]
  },
  {
   "cell_type": "code",
   "execution_count": 27,
   "id": "05cbd5d0-c661-474c-9845-71d1959e9958",
   "metadata": {},
   "outputs": [
    {
     "data": {
      "text/plain": [
       "235"
      ]
     },
     "execution_count": 27,
     "metadata": {},
     "output_type": "execute_result"
    }
   ],
   "source": [
    "total_score = sum(student_database.values())\n",
    "total_score"
   ]
  },
  {
   "cell_type": "code",
   "execution_count": 37,
   "id": "cb5a8249-155d-4080-8d9e-58e54b62b97e",
   "metadata": {},
   "outputs": [
    {
     "data": {
      "text/plain": [
       "47"
      ]
     },
     "execution_count": 37,
     "metadata": {},
     "output_type": "execute_result"
    }
   ],
   "source": [
    "Average_score = int(total_score/number_of_students)\n",
    "Average_score"
   ]
  },
  {
   "cell_type": "code",
   "execution_count": 29,
   "id": "d6194bc9-390d-442a-a4ba-dd2c269abb83",
   "metadata": {},
   "outputs": [
    {
     "data": {
      "text/plain": [
       "dict_items([('James', 40), ('Mohamed', 59), ('Zainab', 69), ('Dauda', 30), ('Farida', 37)])"
      ]
     },
     "execution_count": 29,
     "metadata": {},
     "output_type": "execute_result"
    }
   ],
   "source": [
    "student_database.items()"
   ]
  },
  {
   "cell_type": "code",
   "execution_count": 38,
   "id": "7f8f9ee4-026a-47af-9664-1e980005edcf",
   "metadata": {},
   "outputs": [
    {
     "name": "stdout",
     "output_type": "stream",
     "text": [
      "Mohamed is eligible with score 59\n",
      "Zainab is eligible with score 69\n"
     ]
    }
   ],
   "source": [
    "for name, score in student_database.items():\n",
    "    if score >= Average_score:\n",
    "        print(f\"{name} is eligible with score {score}\")"
   ]
  },
  {
   "cell_type": "code",
   "execution_count": null,
   "id": "1418ecad-6292-4f6b-a565-3ba50112764f",
   "metadata": {},
   "outputs": [],
   "source": []
  },
  {
   "cell_type": "markdown",
   "id": "a08eb7ef-243f-4a05-8c47-00ae16f9961e",
   "metadata": {},
   "source": [
    "### List Comprehension\n",
    "\n",
    "`List comprehension` offers a shorter syntax to create lists based on existing lists, usually using loops in a single line.\n",
    "\n",
    "`Syntax`\n",
    "\n",
    "[`expression` for item in `iterable` if condition]\n"
   ]
  },
  {
   "cell_type": "code",
   "execution_count": 40,
   "id": "d1d03d42-f65f-4cd8-8151-b8c7ea1fec5a",
   "metadata": {},
   "outputs": [
    {
     "name": "stdout",
     "output_type": "stream",
     "text": [
      "1\n",
      "2\n",
      "3\n",
      "4\n",
      "5\n",
      "6\n",
      "7\n",
      "8\n",
      "9\n",
      "10\n"
     ]
    }
   ],
   "source": [
    "choice_numbers = [1,2,3,4,5,6,7,8,9,10]\n",
    "\n",
    "for numbers in choice_numbers:\n",
    "    print(numbers)"
   ]
  },
  {
   "cell_type": "code",
   "execution_count": 43,
   "id": "752cd8f3-dc8f-4204-b6af-4d87e933ec88",
   "metadata": {},
   "outputs": [
    {
     "data": {
      "text/plain": [
       "[2, 4, 6, 8, 10, 12, 14, 16, 18, 20]"
      ]
     },
     "execution_count": 43,
     "metadata": {},
     "output_type": "execute_result"
    }
   ],
   "source": [
    "upgrade = [numbers*2 for numbers in choice_numbers]\n",
    "upgrade"
   ]
  },
  {
   "cell_type": "code",
   "execution_count": 62,
   "id": "6983ad04-49a1-43b7-ab75-bea77d888042",
   "metadata": {},
   "outputs": [
    {
     "data": {
      "text/plain": [
       "[3, 6, 9, 12, 15, 18, 21, 24, 27, 30]"
      ]
     },
     "execution_count": 62,
     "metadata": {},
     "output_type": "execute_result"
    }
   ],
   "source": [
    "upgrade = [numbers*3 for numbers in choice_numbers]\n",
    "upgrade"
   ]
  },
  {
   "cell_type": "code",
   "execution_count": null,
   "id": "da2e9814-2b89-4757-b375-e9909b9d7bb0",
   "metadata": {},
   "outputs": [],
   "source": []
  },
  {
   "cell_type": "markdown",
   "id": "bae0994d-e9f6-4fb6-ae8c-6a75b366d1d1",
   "metadata": {},
   "source": [
    "#### Salary raise implementation using List comprehension"
   ]
  },
  {
   "cell_type": "code",
   "execution_count": 71,
   "id": "3cd66b18-31b4-48b7-a8d0-b63bede7662f",
   "metadata": {},
   "outputs": [],
   "source": [
    "Salaries = [80, 200, 300, 400]\n",
    "\n",
    "for i in range(len(Salaries)):\n",
    "    if Salaries[i]< 100:\n",
    "        Salaries[i]=Salaries[i]*2"
   ]
  },
  {
   "cell_type": "code",
   "execution_count": 72,
   "id": "874781ac-204e-4128-956f-45ea8d8620ee",
   "metadata": {},
   "outputs": [
    {
     "data": {
      "text/plain": [
       "[160, 200, 300, 400]"
      ]
     },
     "execution_count": 72,
     "metadata": {},
     "output_type": "execute_result"
    }
   ],
   "source": [
    "Salaries"
   ]
  },
  {
   "cell_type": "code",
   "execution_count": null,
   "id": "374a2f13-5fec-4d15-8a20-5444318c7425",
   "metadata": {},
   "outputs": [],
   "source": []
  },
  {
   "cell_type": "code",
   "execution_count": null,
   "id": "1980f5c1-fc8c-40bc-89c0-3dabc5c82978",
   "metadata": {},
   "outputs": [],
   "source": []
  },
  {
   "cell_type": "code",
   "execution_count": null,
   "id": "769f8b79-94d2-4c78-acc5-a408e411b81c",
   "metadata": {},
   "outputs": [],
   "source": []
  },
  {
   "cell_type": "code",
   "execution_count": null,
   "id": "14fa9b45-43b1-4a3d-9d39-544b90d17b49",
   "metadata": {},
   "outputs": [],
   "source": []
  },
  {
   "cell_type": "code",
   "execution_count": null,
   "id": "39060bc9-bfed-4410-9530-58ca58dd8e87",
   "metadata": {},
   "outputs": [],
   "source": []
  },
  {
   "cell_type": "code",
   "execution_count": null,
   "id": "3aecdfbb-8436-44ae-8590-434f4a6ac6c8",
   "metadata": {},
   "outputs": [],
   "source": []
  }
 ],
 "metadata": {
  "kernelspec": {
   "display_name": "Python 3 (ipykernel)",
   "language": "python",
   "name": "python3"
  },
  "language_info": {
   "codemirror_mode": {
    "name": "ipython",
    "version": 3
   },
   "file_extension": ".py",
   "mimetype": "text/x-python",
   "name": "python",
   "nbconvert_exporter": "python",
   "pygments_lexer": "ipython3",
   "version": "3.11.7"
  }
 },
 "nbformat": 4,
 "nbformat_minor": 5
}
