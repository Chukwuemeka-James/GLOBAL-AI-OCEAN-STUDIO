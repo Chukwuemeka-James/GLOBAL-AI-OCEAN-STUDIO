{
 "cells": [
  {
   "cell_type": "markdown",
   "id": "0dfaad1b-c23a-4722-bd45-6a4255bd2621",
   "metadata": {},
   "source": [
    "# GLOBAL AI OCEAN [GAIO_001]\n",
    "### INTRODUCTION TO DATA ANALYSIS"
   ]
  },
  {
   "cell_type": "markdown",
   "id": "5a9f94c3-877d-4546-bb1d-63c3d7468d7e",
   "metadata": {},
   "source": [
    "### What is a Variable?\r\n",
    "\r\n",
    "A **variable** in Python is a symbolic name that holds a reference to a value. It acts as a container that stores data for later use, allowing you to work with that data by calling the variable name. For example, if you store a number in a variable, you can later perform mathematical operations using that variable.\r\n"
   ]
  },
  {
   "cell_type": "markdown",
   "id": "84978ebe-c827-40c6-9b4a-1965a0c526fd",
   "metadata": {},
   "source": [
    "##### Came VAriables with `age`, `name` and `Height`"
   ]
  },
  {
   "cell_type": "markdown",
   "id": "67c3f130-d9ea-48d1-a374-8484d39744ac",
   "metadata": {},
   "source": [
    "### Rules for Naming a Variable in Python:\n",
    "\n",
    "1. **Must begin with a letter or underscore (`_`)**\n"
   ]
  },
  {
   "cell_type": "code",
   "execution_count": 1,
   "id": "a068507f-f0e3-4fce-aa91-72861b0c2238",
   "metadata": {},
   "outputs": [
    {
     "ename": "SyntaxError",
     "evalue": "invalid decimal literal (924109330.py, line 3)",
     "output_type": "error",
     "traceback": [
      "\u001b[1;36m  Cell \u001b[1;32mIn[1], line 3\u001b[1;36m\u001b[0m\n\u001b[1;33m    1st_name = \"David\"\u001b[0m\n\u001b[1;37m    ^\u001b[0m\n\u001b[1;31mSyntaxError\u001b[0m\u001b[1;31m:\u001b[0m invalid decimal literal\n"
     ]
    }
   ],
   "source": [
    "# Wrong example\n",
    "\n",
    "1st_name = \"David\""
   ]
  },
  {
   "cell_type": "code",
   "execution_count": 2,
   "id": "09280a63-9ecf-4a92-98d5-3394ac83594e",
   "metadata": {},
   "outputs": [],
   "source": [
    "#Right example\n",
    "\n",
    "first_name = \"David\""
   ]
  },
  {
   "cell_type": "code",
   "execution_count": 4,
   "id": "efe62a90-b26e-4760-a161-e93c433fa8fe",
   "metadata": {},
   "outputs": [],
   "source": [
    "# Another right example\n",
    "\n",
    "_Firstname = \"David\""
   ]
  },
  {
   "cell_type": "code",
   "execution_count": 5,
   "id": "b30ce139-0744-4f41-b959-49970b844bc7",
   "metadata": {},
   "outputs": [],
   "source": [
    "_First_name = \"David\""
   ]
  },
  {
   "cell_type": "markdown",
   "id": "e1c0a8cb-5c7c-4dce-856a-5420667ec4df",
   "metadata": {},
   "source": [
    "2. **Variable name cannot start with a number**:"
   ]
  },
  {
   "cell_type": "code",
   "execution_count": 6,
   "id": "9a0f0289-e3c7-4673-ad76-2c6a51db80c4",
   "metadata": {},
   "outputs": [
    {
     "ename": "SyntaxError",
     "evalue": "invalid decimal literal (1312512864.py, line 3)",
     "output_type": "error",
     "traceback": [
      "\u001b[1;36m  Cell \u001b[1;32mIn[6], line 3\u001b[1;36m\u001b[0m\n\u001b[1;33m    1st_name = \"Samule\"\u001b[0m\n\u001b[1;37m    ^\u001b[0m\n\u001b[1;31mSyntaxError\u001b[0m\u001b[1;31m:\u001b[0m invalid decimal literal\n"
     ]
    }
   ],
   "source": [
    "# Wrong way od going it\n",
    "\n",
    "1st_name = \"Samule\""
   ]
  },
  {
   "cell_type": "code",
   "execution_count": 7,
   "id": "cbf0d914-bde0-4ce9-837f-ac0328c3c562",
   "metadata": {},
   "outputs": [],
   "source": [
    "#Right way of doing it\n",
    "\n",
    "First_name = \"Samuel\""
   ]
  },
  {
   "cell_type": "markdown",
   "id": "57c088da-1640-4ffc-ac45-39bafc34088a",
   "metadata": {},
   "source": [
    "3. **Case-sensitive**:\n",
    "   - Python is case-sensitive, meaning `name`, `Name`, and `NAME` would be treated as different variables.\n"
   ]
  },
  {
   "cell_type": "code",
   "execution_count": 8,
   "id": "50713ed5-1e36-4a85-bf9f-64b3a9f2cdd8",
   "metadata": {},
   "outputs": [
    {
     "ename": "NameError",
     "evalue": "name 'Name' is not defined",
     "output_type": "error",
     "traceback": [
      "\u001b[1;31m---------------------------------------------------------------------------\u001b[0m",
      "\u001b[1;31mNameError\u001b[0m                                 Traceback (most recent call last)",
      "Cell \u001b[1;32mIn[8], line 2\u001b[0m\n\u001b[0;32m      1\u001b[0m NAME \u001b[38;5;241m=\u001b[39m \u001b[38;5;124m\"\u001b[39m\u001b[38;5;124mSamuel\u001b[39m\u001b[38;5;124m\"\u001b[39m\n\u001b[1;32m----> 2\u001b[0m \u001b[38;5;28mprint\u001b[39m(Name)\n",
      "\u001b[1;31mNameError\u001b[0m: name 'Name' is not defined"
     ]
    }
   ],
   "source": [
    "# case sensitivity\n",
    "\n",
    "NAME = \"Samuel\"\n",
    "print(Name)"
   ]
  },
  {
   "cell_type": "code",
   "execution_count": 9,
   "id": "fc7d2bc9-4238-4514-81ad-fda6b713d167",
   "metadata": {},
   "outputs": [
    {
     "ename": "NameError",
     "evalue": "name 'name' is not defined",
     "output_type": "error",
     "traceback": [
      "\u001b[1;31m---------------------------------------------------------------------------\u001b[0m",
      "\u001b[1;31mNameError\u001b[0m                                 Traceback (most recent call last)",
      "Cell \u001b[1;32mIn[9], line 2\u001b[0m\n\u001b[0;32m      1\u001b[0m NAME \u001b[38;5;241m=\u001b[39m \u001b[38;5;124m\"\u001b[39m\u001b[38;5;124mSamuel\u001b[39m\u001b[38;5;124m\"\u001b[39m\n\u001b[1;32m----> 2\u001b[0m \u001b[38;5;28mprint\u001b[39m(name)\n",
      "\u001b[1;31mNameError\u001b[0m: name 'name' is not defined"
     ]
    }
   ],
   "source": [
    "# Wrong case sensitivity\n",
    "\n",
    "NAME = \"Samuel\"\n",
    "print(name)"
   ]
  },
  {
   "cell_type": "code",
   "execution_count": 10,
   "id": "3d508772-d688-48fa-a0a6-e4da6f3c59b8",
   "metadata": {},
   "outputs": [
    {
     "name": "stdout",
     "output_type": "stream",
     "text": [
      "Samuel\n"
     ]
    }
   ],
   "source": [
    "# The right way\n",
    "\n",
    "NAME = \"Samuel\"\n",
    "print(NAME)"
   ]
  },
  {
   "cell_type": "markdown",
   "id": "6ce26f33-9f70-4d17-a497-6effb4e280e1",
   "metadata": {},
   "source": [
    "4. **Cannot use Python keywords:**\n",
    "   - Python keywords (reserved words) cannot be used as variable names. These are words reserved for specific syntactic purposes, such as `if`, `else`, `while`, `for`, `True`, `False`, etc.\n",
    "  \n",
    "   To check know what python keywords are you can use the `keyword library`\n"
   ]
  },
  {
   "cell_type": "code",
   "execution_count": 15,
   "id": "de644e18-a596-4e20-abda-f00795ce6e7f",
   "metadata": {},
   "outputs": [
    {
     "name": "stdout",
     "output_type": "stream",
     "text": [
      "['False', 'None', 'True', 'and', 'as', 'assert', 'async', 'await', 'break', 'class', 'continue', 'def', 'del', 'elif', 'else', 'except', 'finally', 'for', 'from', 'global', 'if', 'import', 'in', 'is', 'lambda', 'nonlocal', 'not', 'or', 'pass', 'raise', 'return', 'try', 'while', 'with', 'yield']\n"
     ]
    }
   ],
   "source": [
    "import keyword\n",
    "print(keyword.kwlist)"
   ]
  },
  {
   "cell_type": "code",
   "execution_count": null,
   "id": "25e85fb9-def4-4169-ad24-c45315da04ff",
   "metadata": {},
   "outputs": [],
   "source": [
    "# You can not give variables any of the above names, else you'll get an error"
   ]
  },
  {
   "cell_type": "code",
   "execution_count": 11,
   "id": "6c1c4c77-7e56-4874-a560-ecd751b975fa",
   "metadata": {},
   "outputs": [
    {
     "ename": "SyntaxError",
     "evalue": "invalid syntax (112072698.py, line 1)",
     "output_type": "error",
     "traceback": [
      "\u001b[1;36m  Cell \u001b[1;32mIn[11], line 1\u001b[1;36m\u001b[0m\n\u001b[1;33m    class = \"JSS 3\"\u001b[0m\n\u001b[1;37m          ^\u001b[0m\n\u001b[1;31mSyntaxError\u001b[0m\u001b[1;31m:\u001b[0m invalid syntax\n"
     ]
    }
   ],
   "source": [
    "class = \"JSS 3\""
   ]
  },
  {
   "cell_type": "markdown",
   "id": "cee866f8-3f11-4762-be24-41465212473b",
   "metadata": {},
   "source": [
    "### If you use any of the above key words, python will throw an error"
   ]
  },
  {
   "cell_type": "markdown",
   "id": "3e2545da-b338-48da-ac17-9953e9ff1140",
   "metadata": {},
   "source": [
    "### What is a Data Type?\n",
    "\n",
    "A **data type** in Python refers to the classification or categorization of data items. It tells the interpreter what kind of value a variable holds, defining the operations that can be performed on the data. Python has several built-in data types, and they are automatically assigned when you create a variable.\n",
    "\n",
    "### Common Python Data Types:\n",
    "\n",
    "1. **Numeric Types**:\n",
    "     - **int**: Represents integers (whole numbers).\n",
    "     - **float**: Represents floating-point numbers (numbers with decimals)."
   ]
  },
  {
   "cell_type": "code",
   "execution_count": 16,
   "id": "2b5d58b6-f04a-4893-8203-c0d71d1a3ce1",
   "metadata": {},
   "outputs": [
    {
     "name": "stdout",
     "output_type": "stream",
     "text": [
      "5.5\n",
      "20\n"
     ]
    }
   ],
   "source": [
    "# Ints example\n",
    "\n",
    "Width = 5.5\n",
    "age = 20\n",
    "print(Width)\n",
    "print(age)"
   ]
  },
  {
   "cell_type": "code",
   "execution_count": 17,
   "id": "9b905a8b-da8b-46a2-a305-e006cdc8e675",
   "metadata": {},
   "outputs": [
    {
     "data": {
      "text/plain": [
       "float"
      ]
     },
     "execution_count": 17,
     "metadata": {},
     "output_type": "execute_result"
    }
   ],
   "source": [
    "type(Width)"
   ]
  },
  {
   "cell_type": "code",
   "execution_count": 18,
   "id": "16f2041b-ac10-4b34-a4a7-43c9da85f749",
   "metadata": {},
   "outputs": [
    {
     "data": {
      "text/plain": [
       "int"
      ]
     },
     "execution_count": 18,
     "metadata": {},
     "output_type": "execute_result"
    }
   ],
   "source": [
    "type(age)"
   ]
  },
  {
   "cell_type": "markdown",
   "id": "a34a7449-bffe-4414-92c7-07978c6666cb",
   "metadata": {},
   "source": [
    "2. **String (str)**:\n",
    "   - A string is a sequence of characters enclosed in single, double, or triple quotes. i.e `' '` or `\" \"`"
   ]
  },
  {
   "cell_type": "code",
   "execution_count": 20,
   "id": "16ebf4af-fe31-46d0-8093-29005badf489",
   "metadata": {},
   "outputs": [
    {
     "name": "stdout",
     "output_type": "stream",
     "text": [
      "David\n"
     ]
    }
   ],
   "source": [
    "# Using double quotation\n",
    "\n",
    "Name = \"David\"\n",
    "print(Name)"
   ]
  },
  {
   "cell_type": "code",
   "execution_count": 21,
   "id": "3e2e5c56-6629-4caa-bdc8-82d9a2f0abd5",
   "metadata": {},
   "outputs": [
    {
     "name": "stdout",
     "output_type": "stream",
     "text": [
      "David\n"
     ]
    }
   ],
   "source": [
    "# Using single quotation\n",
    "\n",
    "Name = 'David'\n",
    "print(Name)"
   ]
  },
  {
   "cell_type": "markdown",
   "id": "502370cc-be92-4269-8e31-6d9b35c7c920",
   "metadata": {},
   "source": [
    "3. **Boolean (bool)**:\n",
    "   - Boolean values represent `True` or `False` and are used for conditions and comparisons.ython's data types, you'll know how to effectively store, manipulate, and work with different kinds of data in your programs."
   ]
  },
  {
   "cell_type": "code",
   "execution_count": 22,
   "id": "a8f3885b-74ef-4511-9a97-a0b8efa48f8a",
   "metadata": {},
   "outputs": [],
   "source": [
    "# With timw we'll get to learn how to apply boolean data type but for just know that it is True of False data type"
   ]
  },
  {
   "cell_type": "markdown",
   "id": "e339526e-4baf-4213-892f-7648a5d58879",
   "metadata": {},
   "source": [
    "## Explaining The Dynamic Nature of Python Typing\n",
    "\n",
    "Python is **dynamically typed**, meaning you don't need to declare the type of a variable explicitly. The interpreter assigns the data type based on the value."
   ]
  },
  {
   "cell_type": "code",
   "execution_count": 18,
   "id": "c151055a-b073-4281-938b-5bc46d71cbe3",
   "metadata": {},
   "outputs": [
    {
     "data": {
      "text/plain": [
       "int"
      ]
     },
     "execution_count": 18,
     "metadata": {},
     "output_type": "execute_result"
    }
   ],
   "source": [
    "Age  = 5\n",
    "type(Age)"
   ]
  },
  {
   "cell_type": "markdown",
   "id": "d2e488fc-62c9-4c3a-9e43-4e553ecc579c",
   "metadata": {},
   "source": [
    "### Operstors in Python Programming\n",
    "1. **arithmetic** operators\n",
    "2. **comparison** operators\n",
    "3. **logical** operators\n",
    "4. **assignment** operators\n",
    "\n",
    "\n",
    "### 1. **Arithmetic Operators**\r\n",
    "These are used to perform basic mathematical operations like addition, subtraction, multiplication, etc.\r\n",
    "\r\n",
    "- `+`: Addition\r\n",
    "- `-`: Subtraction\r\n",
    "- `*`: Multiplication\r\n",
    "- `/`: Division\r\n",
    "- `**`: Exponentiation\r\n",
    "- `%`: Modulus (returns the remainder)\r\n",
    "- `//`: Floor Division (returns the quotient rounded down)\r\n"
   ]
  },
  {
   "cell_type": "code",
   "execution_count": 26,
   "id": "9ee2790d-d060-4971-ba5c-92ed0b0074d8",
   "metadata": {},
   "outputs": [],
   "source": [
    "a = 40\n",
    "b = 20"
   ]
  },
  {
   "cell_type": "code",
   "execution_count": 27,
   "id": "57b7bcb8-df45-4a3b-8ec4-54738fde9d9e",
   "metadata": {},
   "outputs": [
    {
     "name": "stdout",
     "output_type": "stream",
     "text": [
      "60\n"
     ]
    }
   ],
   "source": [
    "# Addition\n",
    "\n",
    "print(a+b)"
   ]
  },
  {
   "cell_type": "code",
   "execution_count": 28,
   "id": "117967bb-bcae-42af-82b0-5550a5fd3abe",
   "metadata": {},
   "outputs": [
    {
     "name": "stdout",
     "output_type": "stream",
     "text": [
      "20\n"
     ]
    }
   ],
   "source": [
    "# Subtraction\n",
    "\n",
    "print(a-b)"
   ]
  },
  {
   "cell_type": "code",
   "execution_count": 29,
   "id": "235b3dbe-9780-4bf2-aa05-d1b68d2ca33b",
   "metadata": {},
   "outputs": [
    {
     "name": "stdout",
     "output_type": "stream",
     "text": [
      "2.0\n"
     ]
    }
   ],
   "source": [
    "# Divivsion\n",
    "\n",
    "print(a/b)"
   ]
  },
  {
   "cell_type": "code",
   "execution_count": 31,
   "id": "7bd69f38-792e-4ee3-b987-42b22d48e600",
   "metadata": {},
   "outputs": [
    {
     "name": "stdout",
     "output_type": "stream",
     "text": [
      "800\n"
     ]
    }
   ],
   "source": [
    "# Multiplication\n",
    "\n",
    "print(a*b)"
   ]
  },
  {
   "cell_type": "code",
   "execution_count": 32,
   "id": "b451fe7b-e7d1-41f2-9654-62b9e5858433",
   "metadata": {},
   "outputs": [
    {
     "name": "stdout",
     "output_type": "stream",
     "text": [
      "1600\n"
     ]
    }
   ],
   "source": [
    "# Exponential (raise to the power)\n",
    "\n",
    "print(a**2)"
   ]
  },
  {
   "cell_type": "code",
   "execution_count": 33,
   "id": "d7eae25f-b1ce-491f-a8d2-90cd62c9de2e",
   "metadata": {},
   "outputs": [
    {
     "name": "stdout",
     "output_type": "stream",
     "text": [
      "1\n"
     ]
    }
   ],
   "source": [
    "# MOdulus--> REturns remainder\n",
    "\n",
    "print(10%3)"
   ]
  },
  {
   "cell_type": "markdown",
   "id": "cc644d31-326d-4c1f-8194-1a7f9bb34425",
   "metadata": {},
   "source": [
    "##### 10%3 will return `1` because `10` devided by `3` is `3` remainder `1`"
   ]
  },
  {
   "cell_type": "code",
   "execution_count": 34,
   "id": "f7a2de75-847a-433f-8a53-8176d7625526",
   "metadata": {},
   "outputs": [
    {
     "name": "stdout",
     "output_type": "stream",
     "text": [
      "3\n"
     ]
    }
   ],
   "source": [
    "# Floor Division\n",
    "\n",
    "print(10//3)"
   ]
  },
  {
   "cell_type": "markdown",
   "id": "161bdbcd-978d-49be-965e-43980d1a3b97",
   "metadata": {},
   "source": [
    "#### We are getting 3 because floor division rounds numbers down"
   ]
  },
  {
   "cell_type": "markdown",
   "id": "4fd31cbf-80bf-4fa6-a619-3d6b44ec01a0",
   "metadata": {},
   "source": [
    "### 2. **Comparison Operators**\n",
    "These are used to compare two values and return a boolean result (`True` or `False`).\n",
    "\n",
    "- `==`: Equal to\n",
    "- `!=`: Not equal to\n",
    "- `>`: Greater than\n",
    "- `<`: Less than\n",
    "- `>=`: Greater than or equal to\n",
    "- `<=`: Less than or equal to\n"
   ]
  },
  {
   "cell_type": "code",
   "execution_count": 38,
   "id": "a1846863-2e2b-4b77-857f-bff212009338",
   "metadata": {},
   "outputs": [],
   "source": [
    "c = 35\n",
    "d = 45"
   ]
  },
  {
   "cell_type": "code",
   "execution_count": 40,
   "id": "5918a3eb-db65-4139-8855-b9d240197465",
   "metadata": {},
   "outputs": [
    {
     "data": {
      "text/plain": [
       "False"
      ]
     },
     "execution_count": 40,
     "metadata": {},
     "output_type": "execute_result"
    }
   ],
   "source": [
    "# Compare equality\n",
    "\n",
    "c == d"
   ]
  },
  {
   "cell_type": "code",
   "execution_count": 41,
   "id": "203891dd-ae8a-4fc7-a0f9-211102ca5367",
   "metadata": {},
   "outputs": [
    {
     "data": {
      "text/plain": [
       "True"
      ]
     },
     "execution_count": 41,
     "metadata": {},
     "output_type": "execute_result"
    }
   ],
   "source": [
    "# Compare with 'not equal to' !=\n",
    "\n",
    "c !=d"
   ]
  },
  {
   "cell_type": "code",
   "execution_count": 42,
   "id": "1076b6ef-9b44-4550-928a-90728ac8fa45",
   "metadata": {},
   "outputs": [
    {
     "data": {
      "text/plain": [
       "False"
      ]
     },
     "execution_count": 42,
     "metadata": {},
     "output_type": "execute_result"
    }
   ],
   "source": [
    "c > d"
   ]
  },
  {
   "cell_type": "code",
   "execution_count": 43,
   "id": "605c4381-757d-4397-a4ce-36db6d06b620",
   "metadata": {},
   "outputs": [
    {
     "data": {
      "text/plain": [
       "True"
      ]
     },
     "execution_count": 43,
     "metadata": {},
     "output_type": "execute_result"
    }
   ],
   "source": [
    "c<d"
   ]
  },
  {
   "cell_type": "markdown",
   "id": "eb7db9a0-949c-4ec3-a19f-26307798e720",
   "metadata": {},
   "source": [
    "#### Greaeter than or equal to >=\n",
    "\n",
    "The will give you True if `AT LEAST`one of the conditions is true"
   ]
  },
  {
   "cell_type": "code",
   "execution_count": 45,
   "id": "d8405330-85bc-4d2b-b304-d8de2ebb72b7",
   "metadata": {},
   "outputs": [
    {
     "data": {
      "text/plain": [
       "False"
      ]
     },
     "execution_count": 45,
     "metadata": {},
     "output_type": "execute_result"
    }
   ],
   "source": [
    "c >= d"
   ]
  },
  {
   "cell_type": "markdown",
   "id": "b620aaa8-f70a-44df-9b6d-7802d7b1b799",
   "metadata": {},
   "source": [
    "#### Less than or equal to <=\n",
    "\n",
    "The will give you True if `AT LEAST` one of the conditions is true"
   ]
  },
  {
   "cell_type": "code",
   "execution_count": 46,
   "id": "da234155-e0e2-4097-8d91-72c9f3d1c796",
   "metadata": {},
   "outputs": [
    {
     "data": {
      "text/plain": [
       "True"
      ]
     },
     "execution_count": 46,
     "metadata": {},
     "output_type": "execute_result"
    }
   ],
   "source": [
    "c<=d"
   ]
  },
  {
   "cell_type": "markdown",
   "id": "d4fd8f2c-a1d8-4e00-b541-a96af901f3ac",
   "metadata": {},
   "source": [
    "### 3. **Logical Operators**\r\n",
    "These are used to combine conditional statements and return `True` or `False` based on the logic of the operation.\r\n",
    "\r\n",
    "- `and`: Returns `True` if both conditions are `True`\r\n",
    "- `or`: Returns `True` if at least one condition is `True`\r\n",
    "- `not`: Reverses the result (returns `True` if the condition is `False`)\r\n"
   ]
  },
  {
   "cell_type": "code",
   "execution_count": 47,
   "id": "1d7430cf-580b-4230-9162-43e3908c3c70",
   "metadata": {},
   "outputs": [],
   "source": [
    "# Let us assign boolean values to \n",
    "\n",
    "x = True\n",
    "y = False"
   ]
  },
  {
   "cell_type": "markdown",
   "id": "615c2c95-a7d0-4aa2-b1a7-31125794f017",
   "metadata": {},
   "source": [
    "#### and operator"
   ]
  },
  {
   "cell_type": "code",
   "execution_count": 49,
   "id": "f6c3c037-b209-4c55-9532-ad98c59a3d86",
   "metadata": {},
   "outputs": [
    {
     "name": "stdout",
     "output_type": "stream",
     "text": [
      "Result of 'x and y': False\n"
     ]
    }
   ],
   "source": [
    "# 'and' operator: True only if both conditions are True\n",
    "result_of_and = x and y\n",
    "print(\"Result of 'x and y':\", result_of_and) "
   ]
  },
  {
   "cell_type": "markdown",
   "id": "269ef21c-fb1e-4a5f-9aed-692522eadd3f",
   "metadata": {},
   "source": [
    "#### or operator"
   ]
  },
  {
   "cell_type": "code",
   "execution_count": 50,
   "id": "3819b06f-5cf0-4f56-9a20-2fbe84e68cac",
   "metadata": {},
   "outputs": [
    {
     "name": "stdout",
     "output_type": "stream",
     "text": [
      "Result of 'x or y': True\n"
     ]
    }
   ],
   "source": [
    "# 'or' operator: True if at least one condition is True\n",
    "result_of_or = x or y\n",
    "print(\"Result of 'x or y':\", result_of_or)"
   ]
  },
  {
   "cell_type": "markdown",
   "id": "9538ba91-8305-4d97-b570-86d5128011a5",
   "metadata": {},
   "source": [
    "#### result of not operator"
   ]
  },
  {
   "cell_type": "code",
   "execution_count": 51,
   "id": "6dfa736e-57e8-4e2f-a068-286759e87230",
   "metadata": {},
   "outputs": [
    {
     "name": "stdout",
     "output_type": "stream",
     "text": [
      "Result of 'not x': False\n"
     ]
    }
   ],
   "source": [
    "# 'not' operator: Inverts the Boolean value\n",
    "result_of_not = not x\n",
    "print(\"Result of 'not x':\", result_of_not)"
   ]
  },
  {
   "cell_type": "markdown",
   "id": "2e17f107-acea-4638-86bd-d8843480dd2b",
   "metadata": {},
   "source": [
    "### 4. **Assignment Operators**\r\n",
    "These are used to assign values to variables. They can also perform arithmetic or bitwise operations on a variable and assign the result back to that variable.\r\n",
    "\r\n",
    "- `=`: Simple assignment\r\n",
    "- `+=`: Add and assign\r\n",
    "- `-=`: Subtract and assign\r\n",
    "- `*=`: Multiply and assign\r\n",
    "- `/=`: Divide and assign\r\n",
    "- `//=`: Floor divide and assign\r\n",
    "- `%=`: Modulus and assign\r\n",
    "- `**=`: Exponent and assign\r\n"
   ]
  },
  {
   "cell_type": "code",
   "execution_count": 52,
   "id": "1cd7735d-9056-4228-9034-9af43f604c4e",
   "metadata": {},
   "outputs": [
    {
     "name": "stdout",
     "output_type": "stream",
     "text": [
      "x = 5\n"
     ]
    }
   ],
   "source": [
    "# Simple assignment\n",
    "x = 5\n",
    "print(\"x =\", x)"
   ]
  },
  {
   "cell_type": "code",
   "execution_count": 53,
   "id": "39461049-108c-4508-b4e0-3838da35e677",
   "metadata": {},
   "outputs": [
    {
     "name": "stdout",
     "output_type": "stream",
     "text": [
      "x after x += 3: 8\n"
     ]
    }
   ],
   "source": [
    "# += : Add and assign\n",
    "x += 3\n",
    "print(\"x after x += 3:\", x) "
   ]
  },
  {
   "cell_type": "markdown",
   "id": "45a239e3-9e89-4672-b38d-ebab285446ea",
   "metadata": {},
   "source": [
    " ### Note: `x += 3` and `x = x + 3` are thesame thing"
   ]
  },
  {
   "cell_type": "code",
   "execution_count": 55,
   "id": "d9d99a0e-91b5-4a4c-adeb-27f74855f915",
   "metadata": {},
   "outputs": [
    {
     "name": "stdout",
     "output_type": "stream",
     "text": [
      "x after x -= 2: 4\n"
     ]
    }
   ],
   "source": [
    "# -= : Subtract and assign\n",
    "\n",
    "x -= 2\n",
    "print(\"x after x -= 2:\", x) "
   ]
  },
  {
   "cell_type": "markdown",
   "id": "49e4cc70-ffe3-4342-8fae-2fff2b253611",
   "metadata": {},
   "source": [
    " ### Note: `x -= 2` and `x = x - 2` are thesame thing"
   ]
  },
  {
   "cell_type": "code",
   "execution_count": 56,
   "id": "ec060900-5b2b-4985-beb6-9d7ad67036ad",
   "metadata": {},
   "outputs": [
    {
     "name": "stdout",
     "output_type": "stream",
     "text": [
      "x after x *= 4: 16\n"
     ]
    }
   ],
   "source": [
    "# *= : Multiply and assign\n",
    "x *= 4\n",
    "print(\"x after x *= 4:\", x)"
   ]
  },
  {
   "cell_type": "markdown",
   "id": "92576c27-d9be-483b-8489-9f97bad23d8c",
   "metadata": {},
   "source": [
    " ### Note: `x *= 4` and `x = x * 4` are thesame thing"
   ]
  },
  {
   "cell_type": "code",
   "execution_count": 57,
   "id": "75566969-73c4-4ef8-8758-6c26d2d5c56d",
   "metadata": {},
   "outputs": [
    {
     "name": "stdout",
     "output_type": "stream",
     "text": [
      "x after x /= 6: 2.6666666666666665\n"
     ]
    }
   ],
   "source": [
    "# /= : Divide and assign\n",
    "x /= 6\n",
    "print(\"x after x /= 6:\", x)"
   ]
  },
  {
   "cell_type": "markdown",
   "id": "e1474791-5a70-4211-873a-ae04db53fd6d",
   "metadata": {},
   "source": [
    " ### Note: `x /= 6` and `x = x / 6` are thesame thing"
   ]
  },
  {
   "cell_type": "code",
   "execution_count": 59,
   "id": "c38161f3-a71f-4e07-8b04-81b1ea927656",
   "metadata": {},
   "outputs": [
    {
     "name": "stdout",
     "output_type": "stream",
     "text": [
      "x after x //= 2: 0.0\n"
     ]
    }
   ],
   "source": [
    "# //= : Floor divide and assign\n",
    "x //= 2 \n",
    "print(\"x after x //= 2:\", x)"
   ]
  },
  {
   "cell_type": "markdown",
   "id": "8d0819fe-a751-4757-ada6-451b68861687",
   "metadata": {},
   "source": [
    " ### Note: `x //= 2` and `x = x // 2` are thesame thing"
   ]
  },
  {
   "cell_type": "code",
   "execution_count": 60,
   "id": "35913ee8-38b5-4917-aff4-2b4b2bcb8989",
   "metadata": {},
   "outputs": [
    {
     "name": "stdout",
     "output_type": "stream",
     "text": [
      "x after x %= 2: 0.0\n"
     ]
    }
   ],
   "source": [
    "# %= : Modulus and assign\n",
    "x %= 2\n",
    "print(\"x after x %= 2:\", x)"
   ]
  },
  {
   "cell_type": "markdown",
   "id": "a948e185-e147-477b-b4ab-92dffe30c140",
   "metadata": {},
   "source": [
    " ### Note: `x %= 2` and `x = x % 2` are thesame thing"
   ]
  },
  {
   "cell_type": "code",
   "execution_count": 61,
   "id": "20c86f2f-a253-4b1a-92d2-3a850b64abfa",
   "metadata": {},
   "outputs": [
    {
     "name": "stdout",
     "output_type": "stream",
     "text": [
      "x after x **= 2: 9\n"
     ]
    }
   ],
   "source": [
    "# **= : Exponent and assign\n",
    "x = 3\n",
    "x **= 2\n",
    "print(\"x after x **= 2:\", x)"
   ]
  },
  {
   "cell_type": "markdown",
   "id": "70941df2-c32f-4c07-bbe1-bd7a4e858d45",
   "metadata": {},
   "source": [
    "## The End"
   ]
  }
 ],
 "metadata": {
  "kernelspec": {
   "display_name": "Python 3 (ipykernel)",
   "language": "python",
   "name": "python3"
  },
  "language_info": {
   "codemirror_mode": {
    "name": "ipython",
    "version": 3
   },
   "file_extension": ".py",
   "mimetype": "text/x-python",
   "name": "python",
   "nbconvert_exporter": "python",
   "pygments_lexer": "ipython3",
   "version": "3.11.7"
  }
 },
 "nbformat": 4,
 "nbformat_minor": 5
}
