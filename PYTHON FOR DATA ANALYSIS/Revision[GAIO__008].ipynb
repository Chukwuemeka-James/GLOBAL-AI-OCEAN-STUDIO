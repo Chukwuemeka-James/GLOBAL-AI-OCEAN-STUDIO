{
 "cells": [
  {
   "cell_type": "markdown",
   "id": "dbf96990",
   "metadata": {},
   "source": [
    "## Revision"
   ]
  },
  {
   "cell_type": "code",
   "execution_count": 11,
   "id": "871ccbc3",
   "metadata": {},
   "outputs": [
    {
     "name": "stdout",
     "output_type": "stream",
     "text": [
      "Write the heights of the students: 6,6,7,5,6\n",
      "['6', '6', '7', '5', '6']\n"
     ]
    },
    {
     "data": {
      "text/plain": [
       "[6.0, 6.0, 7.0, 5.0, 6.0]"
      ]
     },
     "execution_count": 11,
     "metadata": {},
     "output_type": "execute_result"
    }
   ],
   "source": [
    "# Write a code to get the average height of student using an input function.\n",
    "\n",
    "students_height = input('Write the heights of the students: ').split(',')\n",
    "\n",
    "for h in range(len(students_height)):\n",
    "    students_height[h] = float(students_height[h])\n",
    "\n",
    "# Add all the heights in the list\n",
    "total_height = 0\n",
    "for height in students_height:\n",
    "    total_height += height\n",
    "\n",
    "# count the amount of students\n",
    "amount_of_students = 0\n",
    "for students in range(len(students_height)):\n",
    "    amount_of_students += 1\n",
    "    \n",
    "# find the average height  \n",
    "average_height = total_height/amount_of_students\n",
    "average_height"
   ]
  },
  {
   "cell_type": "code",
   "execution_count": 13,
   "id": "acefe3ec",
   "metadata": {},
   "outputs": [
    {
     "data": {
      "text/plain": [
       "5050"
      ]
     },
     "execution_count": 13,
     "metadata": {},
     "output_type": "execute_result"
    }
   ],
   "source": [
    "# sum a particular number using a for loop\n",
    "total_sum = 0\n",
    "for num in range(1,101):\n",
    "    total_sum += num\n",
    "total_sum"
   ]
  },
  {
   "cell_type": "code",
   "execution_count": 14,
   "id": "8c431fd4",
   "metadata": {},
   "outputs": [
    {
     "data": {
      "text/plain": [
       "2550"
      ]
     },
     "execution_count": 14,
     "metadata": {},
     "output_type": "execute_result"
    }
   ],
   "source": [
    "# sum even\n",
    "even = 0\n",
    "for num in range(1,101):\n",
    "    if num % 2 == 0:\n",
    "        even += num\n",
    "even"
   ]
  },
  {
   "cell_type": "code",
   "execution_count": 15,
   "id": "5802cc38",
   "metadata": {},
   "outputs": [
    {
     "data": {
      "text/plain": [
       "2500"
      ]
     },
     "execution_count": 15,
     "metadata": {},
     "output_type": "execute_result"
    }
   ],
   "source": [
    "# sum odd\n",
    "odd = 0\n",
    "for num in range(1,101):\n",
    "    if num % 2 != 0:\n",
    "        odd += num\n",
    "odd"
   ]
  },
  {
   "cell_type": "code",
   "execution_count": 18,
   "id": "221f53eb",
   "metadata": {},
   "outputs": [
    {
     "name": "stdout",
     "output_type": "stream",
     "text": [
      "Write the scores: 50,60,70,75,100,99,45\n",
      "['50', '60', '70', '75', '100', '99', '45']\n"
     ]
    },
    {
     "data": {
      "text/plain": [
       "100.0"
      ]
     },
     "execution_count": 18,
     "metadata": {},
     "output_type": "execute_result"
    }
   ],
   "source": [
    "# Students scores \n",
    "# get the heighest score using a for loop\n",
    "students_score = input('Write the scores: ').split(',')\n",
    "\n",
    "for s in range(len(students_score)):\n",
    "    students_score[s] = int(students_score[s])\n",
    "\n",
    "# Add all the heights in the list\n",
    "heighest_score = 0\n",
    "for score in students_score:\n",
    "    if score >= heighest_score:\n",
    "        heighest_score = score\n",
    "heighest_score"
   ]
  },
  {
   "cell_type": "code",
   "execution_count": 19,
   "id": "4f2553ed",
   "metadata": {},
   "outputs": [
    {
     "name": "stdout",
     "output_type": "stream",
     "text": [
      "My first_name is James\n",
      "My second_name is Muhammad\n",
      "My age is 25\n",
      "My height is 1.5\n"
     ]
    }
   ],
   "source": [
    "# for loop with dictionaries\n",
    "data = {'first_name':'James','second_name':'Muhammad','age':25,'height':1.5}\n",
    "for attribute,value in data.items():\n",
    "    print(f'My {attribute} is {value}')"
   ]
  },
  {
   "cell_type": "code",
   "execution_count": 34,
   "id": "9e655f8c",
   "metadata": {},
   "outputs": [],
   "source": [
    "# prime checker function\n",
    "def prime_checker(num):\n",
    "    prime = True\n",
    "    if num == 0 or num == 1:\n",
    "        print('Not a prime number')\n",
    "    elif num > 1:\n",
    "        for i in range(2,num):\n",
    "            if num % i == 0:\n",
    "                prime = False\n",
    "                \n",
    "        if prime:\n",
    "            print('Its a prime number')\n",
    "\n",
    "        else:\n",
    "            print('It is not a prime number')"
   ]
  },
  {
   "cell_type": "code",
   "execution_count": 37,
   "id": "9ed5686c",
   "metadata": {},
   "outputs": [
    {
     "name": "stdout",
     "output_type": "stream",
     "text": [
      "Its a prime number\n"
     ]
    }
   ],
   "source": [
    "prime_checker(13)"
   ]
  },
  {
   "cell_type": "code",
   "execution_count": 38,
   "id": "13966a3a",
   "metadata": {},
   "outputs": [
    {
     "name": "stdout",
     "output_type": "stream",
     "text": [
      "It is not a prime number\n"
     ]
    }
   ],
   "source": [
    "prime_checker(20)"
   ]
  },
  {
   "cell_type": "code",
   "execution_count": null,
   "id": "ed4d5a38",
   "metadata": {},
   "outputs": [],
   "source": []
  }
 ],
 "metadata": {
  "kernelspec": {
   "display_name": "Python 3 (ipykernel)",
   "language": "python",
   "name": "python3"
  },
  "language_info": {
   "codemirror_mode": {
    "name": "ipython",
    "version": 3
   },
   "file_extension": ".py",
   "mimetype": "text/x-python",
   "name": "python",
   "nbconvert_exporter": "python",
   "pygments_lexer": "ipython3",
   "version": "3.11.5"
  }
 },
 "nbformat": 4,
 "nbformat_minor": 5
}
