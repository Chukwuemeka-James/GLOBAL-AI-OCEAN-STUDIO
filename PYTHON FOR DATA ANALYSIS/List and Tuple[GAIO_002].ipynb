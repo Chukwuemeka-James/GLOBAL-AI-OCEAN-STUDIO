{
 "cells": [
  {
   "cell_type": "markdown",
   "id": "e90ac915",
   "metadata": {},
   "source": [
    "## Data Structures"
   ]
  },
  {
   "cell_type": "markdown",
   "id": "8719b3de",
   "metadata": {},
   "source": [
    "### Data structures are containers or collection of data that organize and group data types toether in different ways."
   ]
  },
  {
   "cell_type": "markdown",
   "id": "bea565f9",
   "metadata": {},
   "source": [
    "## List\n",
    "### List is a data structure in python that is mutable ordered sequence of elements."
   ]
  },
  {
   "cell_type": "markdown",
   "id": "68165828",
   "metadata": {},
   "source": [
    "#### Indexing a list"
   ]
  },
  {
   "cell_type": "code",
   "execution_count": 68,
   "id": "941d8d1e",
   "metadata": {},
   "outputs": [],
   "source": [
    "lst = [2,5,'name','age',10,10.5,2.7]"
   ]
  },
  {
   "cell_type": "code",
   "execution_count": 69,
   "id": "54594dd5",
   "metadata": {},
   "outputs": [
    {
     "data": {
      "text/plain": [
       "'name'"
      ]
     },
     "execution_count": 69,
     "metadata": {},
     "output_type": "execute_result"
    }
   ],
   "source": [
    "lst[2]"
   ]
  },
  {
   "cell_type": "code",
   "execution_count": 70,
   "id": "d91882f6",
   "metadata": {},
   "outputs": [
    {
     "data": {
      "text/plain": [
       "2"
      ]
     },
     "execution_count": 70,
     "metadata": {},
     "output_type": "execute_result"
    }
   ],
   "source": [
    "lst[0]"
   ]
  },
  {
   "cell_type": "code",
   "execution_count": 71,
   "id": "64b9891d",
   "metadata": {},
   "outputs": [
    {
     "data": {
      "text/plain": [
       "2.7"
      ]
     },
     "execution_count": 71,
     "metadata": {},
     "output_type": "execute_result"
    }
   ],
   "source": [
    "lst[-1]"
   ]
  },
  {
   "cell_type": "code",
   "execution_count": 72,
   "id": "c3f5291c",
   "metadata": {},
   "outputs": [
    {
     "data": {
      "text/plain": [
       "2.7"
      ]
     },
     "execution_count": 72,
     "metadata": {},
     "output_type": "execute_result"
    }
   ],
   "source": [
    "lst[len(lst)-1]"
   ]
  },
  {
   "cell_type": "code",
   "execution_count": 73,
   "id": "e4a025b7",
   "metadata": {},
   "outputs": [
    {
     "data": {
      "text/plain": [
       "['string', 'Integer', [55, 678, 234, 'Float'], 'Tuple']"
      ]
     },
     "execution_count": 73,
     "metadata": {},
     "output_type": "execute_result"
    }
   ],
   "source": [
    "lst2 = ['string','Integer',[55,678,234,'Float'],'Tuple']\n",
    "lst2"
   ]
  },
  {
   "cell_type": "code",
   "execution_count": 74,
   "id": "e9dac203",
   "metadata": {},
   "outputs": [
    {
     "data": {
      "text/plain": [
       "[55, 678, 234, 'Float']"
      ]
     },
     "execution_count": 74,
     "metadata": {},
     "output_type": "execute_result"
    }
   ],
   "source": [
    "lst2[2]"
   ]
  },
  {
   "cell_type": "code",
   "execution_count": 75,
   "id": "faede134",
   "metadata": {},
   "outputs": [
    {
     "data": {
      "text/plain": [
       "'Float'"
      ]
     },
     "execution_count": 75,
     "metadata": {},
     "output_type": "execute_result"
    }
   ],
   "source": [
    "lst2[2][-1]"
   ]
  },
  {
   "cell_type": "code",
   "execution_count": 76,
   "id": "8da830b2",
   "metadata": {},
   "outputs": [
    {
     "data": {
      "text/plain": [
       "'a'"
      ]
     },
     "execution_count": 76,
     "metadata": {},
     "output_type": "execute_result"
    }
   ],
   "source": [
    "lst2[2][-1][3]"
   ]
  },
  {
   "cell_type": "markdown",
   "id": "3378bfb3",
   "metadata": {},
   "source": [
    "#### Slice and Dice With List"
   ]
  },
  {
   "cell_type": "markdown",
   "id": "a3b819a8",
   "metadata": {},
   "source": [
    "### start: start from the particular index defined.\n",
    "### stop: stop at the index before the index defined"
   ]
  },
  {
   "cell_type": "code",
   "execution_count": 80,
   "id": "4202e3ba",
   "metadata": {},
   "outputs": [],
   "source": [
    "lst3 = [1,2,3,4,5,6,7,8,9,10]"
   ]
  },
  {
   "cell_type": "code",
   "execution_count": 81,
   "id": "c033bb45",
   "metadata": {},
   "outputs": [
    {
     "data": {
      "text/plain": [
       "[1, 2, 3, 4, 5]"
      ]
     },
     "execution_count": 81,
     "metadata": {},
     "output_type": "execute_result"
    }
   ],
   "source": [
    "lst3[0:5]"
   ]
  },
  {
   "cell_type": "code",
   "execution_count": 82,
   "id": "e2777462",
   "metadata": {},
   "outputs": [
    {
     "data": {
      "text/plain": [
       "[1, 2, 3, 4, 5]"
      ]
     },
     "execution_count": 82,
     "metadata": {},
     "output_type": "execute_result"
    }
   ],
   "source": [
    "lst3[:5]"
   ]
  },
  {
   "cell_type": "code",
   "execution_count": 83,
   "id": "099fd350",
   "metadata": {},
   "outputs": [
    {
     "data": {
      "text/plain": [
       "[1, 2, 3, 4, 5, 6, 7, 8, 9]"
      ]
     },
     "execution_count": 83,
     "metadata": {},
     "output_type": "execute_result"
    }
   ],
   "source": [
    "lst3[:-1]"
   ]
  },
  {
   "cell_type": "code",
   "execution_count": 84,
   "id": "bfb29606",
   "metadata": {},
   "outputs": [
    {
     "data": {
      "text/plain": [
       "[4, 5, 6, 7, 8]"
      ]
     },
     "execution_count": 84,
     "metadata": {},
     "output_type": "execute_result"
    }
   ],
   "source": [
    "lst3[3:8]"
   ]
  },
  {
   "cell_type": "code",
   "execution_count": 86,
   "id": "2b56f191",
   "metadata": {},
   "outputs": [
    {
     "data": {
      "text/plain": [
       "[10]"
      ]
     },
     "execution_count": 86,
     "metadata": {},
     "output_type": "execute_result"
    }
   ],
   "source": [
    "lst3[-1:]"
   ]
  },
  {
   "cell_type": "code",
   "execution_count": null,
   "id": "adccc03e",
   "metadata": {},
   "outputs": [],
   "source": []
  },
  {
   "cell_type": "code",
   "execution_count": null,
   "id": "b1ede61f",
   "metadata": {},
   "outputs": [],
   "source": []
  },
  {
   "cell_type": "markdown",
   "id": "c645630c",
   "metadata": {},
   "source": [
    "#### List Methods (len(), min(), max(), sorted(), .join(), \\n, .append(), .pop())"
   ]
  },
  {
   "cell_type": "code",
   "execution_count": 87,
   "id": "affe02b7",
   "metadata": {},
   "outputs": [],
   "source": [
    "lst4 = ['string','Integer',[55,678,234,'Float'],'Tuple']"
   ]
  },
  {
   "cell_type": "code",
   "execution_count": 88,
   "id": "99d53378",
   "metadata": {},
   "outputs": [
    {
     "data": {
      "text/plain": [
       "4"
      ]
     },
     "execution_count": 88,
     "metadata": {},
     "output_type": "execute_result"
    }
   ],
   "source": [
    "# len() is used to get the length of a list or string\n",
    "len(lst2)"
   ]
  },
  {
   "cell_type": "code",
   "execution_count": 89,
   "id": "4be19a97",
   "metadata": {},
   "outputs": [],
   "source": [
    "lst4 = [231,285,563,477,364,466,363,465,569,140,524]"
   ]
  },
  {
   "cell_type": "code",
   "execution_count": 90,
   "id": "68fa5ad5",
   "metadata": {},
   "outputs": [
    {
     "data": {
      "text/plain": [
       "140"
      ]
     },
     "execution_count": 90,
     "metadata": {},
     "output_type": "execute_result"
    }
   ],
   "source": [
    "# min() is used to get the minimum value in a list or iterable\n",
    "min(lst4)"
   ]
  },
  {
   "cell_type": "code",
   "execution_count": 91,
   "id": "d74fde3d",
   "metadata": {},
   "outputs": [
    {
     "data": {
      "text/plain": [
       "569"
      ]
     },
     "execution_count": 91,
     "metadata": {},
     "output_type": "execute_result"
    }
   ],
   "source": [
    "# max() is used to get the maximum value in a list or iterable\n",
    "max(lst4)"
   ]
  },
  {
   "cell_type": "markdown",
   "id": "de62f038",
   "metadata": {},
   "source": [
    "### Concatenating a string."
   ]
  },
  {
   "cell_type": "code",
   "execution_count": 92,
   "id": "4c2eb50c",
   "metadata": {},
   "outputs": [
    {
     "data": {
      "text/plain": [
       "['come', 'go', 'see', 2, 4, 6]"
      ]
     },
     "execution_count": 92,
     "metadata": {},
     "output_type": "execute_result"
    }
   ],
   "source": [
    "['come','go','see'] + [2,4,6]"
   ]
  },
  {
   "cell_type": "code",
   "execution_count": 93,
   "id": "ebbc6677",
   "metadata": {},
   "outputs": [
    {
     "data": {
      "text/plain": [
       "['come', 'go', 'see', 'come', 'go', 'see']"
      ]
     },
     "execution_count": 93,
     "metadata": {},
     "output_type": "execute_result"
    }
   ],
   "source": [
    "['come','go','see'] * 2"
   ]
  },
  {
   "cell_type": "code",
   "execution_count": 94,
   "id": "6d7e9a13",
   "metadata": {},
   "outputs": [
    {
     "data": {
      "text/plain": [
       "[2, 4, 6, 2, 4, 6]"
      ]
     },
     "execution_count": 94,
     "metadata": {},
     "output_type": "execute_result"
    }
   ],
   "source": [
    "[2,4,6] + [2,4,6]"
   ]
  },
  {
   "cell_type": "code",
   "execution_count": 95,
   "id": "a4eb84d0",
   "metadata": {},
   "outputs": [
    {
     "data": {
      "text/plain": [
       "[2, 2, 4, 4, 6, 6]"
      ]
     },
     "execution_count": 95,
     "metadata": {},
     "output_type": "execute_result"
    }
   ],
   "source": [
    "# sorted is used to sort values either in ascending or descending order\n",
    "sorted([2, 4, 6, 2, 4, 6])"
   ]
  },
  {
   "cell_type": "code",
   "execution_count": 96,
   "id": "0eb3d51b",
   "metadata": {},
   "outputs": [
    {
     "data": {
      "text/plain": [
       "[6, 6, 4, 4, 2, 2]"
      ]
     },
     "execution_count": 96,
     "metadata": {},
     "output_type": "execute_result"
    }
   ],
   "source": [
    "sorted([2, 4, 6, 2, 4, 6],reverse=True)"
   ]
  },
  {
   "cell_type": "code",
   "execution_count": 97,
   "id": "410332f7",
   "metadata": {},
   "outputs": [
    {
     "name": "stdout",
     "output_type": "stream",
     "text": [
      "come\n",
      "go\n",
      "see\n"
     ]
    }
   ],
   "source": [
    "# .join() is used to seperate elements in a list and convert the list to string format\n",
    "print('\\n'.join(['come','go','see']))"
   ]
  },
  {
   "cell_type": "code",
   "execution_count": 98,
   "id": "ffacc9ce",
   "metadata": {},
   "outputs": [
    {
     "name": "stdout",
     "output_type": "stream",
     "text": [
      "come-go-see\n"
     ]
    }
   ],
   "source": [
    "print('-'.join(['come','go','see']))"
   ]
  },
  {
   "cell_type": "code",
   "execution_count": 99,
   "id": "bdfe9eab",
   "metadata": {},
   "outputs": [],
   "source": [
    "lst5 = [231,285,563,477,364,466,363,465,569,140,524]"
   ]
  },
  {
   "cell_type": "code",
   "execution_count": 100,
   "id": "b1488230",
   "metadata": {},
   "outputs": [],
   "source": [
    "# append() is used to attach new values to the end of a list\n",
    "lst5.append(253)"
   ]
  },
  {
   "cell_type": "code",
   "execution_count": 101,
   "id": "9ba0160b",
   "metadata": {},
   "outputs": [
    {
     "data": {
      "text/plain": [
       "[231, 285, 563, 477, 364, 466, 363, 465, 569, 140, 524, 253]"
      ]
     },
     "execution_count": 101,
     "metadata": {},
     "output_type": "execute_result"
    }
   ],
   "source": [
    "lst5"
   ]
  },
  {
   "cell_type": "code",
   "execution_count": 103,
   "id": "5dd2d5cd",
   "metadata": {},
   "outputs": [
    {
     "data": {
      "text/plain": [
       "466"
      ]
     },
     "execution_count": 103,
     "metadata": {},
     "output_type": "execute_result"
    }
   ],
   "source": [
    "# pop() is used to remove a particular index in a list and also returns the element it removes.\n",
    "lst5.pop(5)"
   ]
  },
  {
   "cell_type": "code",
   "execution_count": 104,
   "id": "c0afee71",
   "metadata": {},
   "outputs": [
    {
     "data": {
      "text/plain": [
       "[231, 285, 563, 477, 364, 363, 465, 569, 140, 524, 253]"
      ]
     },
     "execution_count": 104,
     "metadata": {},
     "output_type": "execute_result"
    }
   ],
   "source": [
    "lst5"
   ]
  },
  {
   "cell_type": "markdown",
   "id": "7525780a",
   "metadata": {},
   "source": [
    "## TUPLE"
   ]
  },
  {
   "cell_type": "markdown",
   "id": "df3de30e",
   "metadata": {},
   "source": [
    "### Tuple is a data type for immutable ordered sequences of elements they ar often used to store related pieces of information."
   ]
  },
  {
   "cell_type": "code",
   "execution_count": 106,
   "id": "ec654cab",
   "metadata": {},
   "outputs": [],
   "source": [
    "tpl = (10,12,15)"
   ]
  },
  {
   "cell_type": "code",
   "execution_count": 107,
   "id": "62639d7e",
   "metadata": {},
   "outputs": [
    {
     "data": {
      "text/plain": [
       "10"
      ]
     },
     "execution_count": 107,
     "metadata": {},
     "output_type": "execute_result"
    }
   ],
   "source": [
    "tpl[0]"
   ]
  },
  {
   "cell_type": "code",
   "execution_count": 108,
   "id": "5671bc4e",
   "metadata": {},
   "outputs": [],
   "source": [
    "weight,height,width = (10,12,15)"
   ]
  },
  {
   "cell_type": "code",
   "execution_count": 109,
   "id": "0473beca",
   "metadata": {},
   "outputs": [
    {
     "name": "stdout",
     "output_type": "stream",
     "text": [
      "15\n"
     ]
    }
   ],
   "source": [
    "print(width)"
   ]
  },
  {
   "cell_type": "markdown",
   "id": "c96088c6",
   "metadata": {},
   "source": [
    "## Guide on the Mini Project."
   ]
  },
  {
   "cell_type": "code",
   "execution_count": 62,
   "id": "a7ca4601",
   "metadata": {},
   "outputs": [],
   "source": [
    "shop = [('apple',20),('banana',25),('Pineapple',30)]"
   ]
  },
  {
   "cell_type": "code",
   "execution_count": 63,
   "id": "03f8a5de",
   "metadata": {},
   "outputs": [
    {
     "name": "stdout",
     "output_type": "stream",
     "text": [
      "[('apple', 20), ('banana', 25), ('Pineapple', 30)]\n"
     ]
    }
   ],
   "source": [
    "print(shop)"
   ]
  },
  {
   "cell_type": "code",
   "execution_count": 64,
   "id": "be92e709",
   "metadata": {},
   "outputs": [],
   "source": [
    "shop.append(('orange',10))"
   ]
  },
  {
   "cell_type": "code",
   "execution_count": 65,
   "id": "628af19a",
   "metadata": {},
   "outputs": [
    {
     "data": {
      "text/plain": [
       "[('apple', 20), ('banana', 25), ('Pineapple', 30), ('orange', 10)]"
      ]
     },
     "execution_count": 65,
     "metadata": {},
     "output_type": "execute_result"
    }
   ],
   "source": [
    "shop"
   ]
  },
  {
   "cell_type": "code",
   "execution_count": 66,
   "id": "8c8d94f6",
   "metadata": {},
   "outputs": [
    {
     "data": {
      "text/plain": [
       "('Pineapple', 30)"
      ]
     },
     "execution_count": 66,
     "metadata": {},
     "output_type": "execute_result"
    }
   ],
   "source": [
    "shop.pop(2)"
   ]
  },
  {
   "cell_type": "code",
   "execution_count": 67,
   "id": "33eb8784",
   "metadata": {},
   "outputs": [
    {
     "data": {
      "text/plain": [
       "[('apple', 20), ('banana', 25), ('orange', 10)]"
      ]
     },
     "execution_count": 67,
     "metadata": {},
     "output_type": "execute_result"
    }
   ],
   "source": [
    "shop"
   ]
  },
  {
   "cell_type": "markdown",
   "id": "55bd0928",
   "metadata": {},
   "source": [
    "## Mini Project: Create a program that simulates a shopping list using lists and tuples. Allow users to add items, remove items, and display the list. "
   ]
  }
 ],
 "metadata": {
  "kernelspec": {
   "display_name": "Python 3 (ipykernel)",
   "language": "python",
   "name": "python3"
  },
  "language_info": {
   "codemirror_mode": {
    "name": "ipython",
    "version": 3
   },
   "file_extension": ".py",
   "mimetype": "text/x-python",
   "name": "python",
   "nbconvert_exporter": "python",
   "pygments_lexer": "ipython3",
   "version": "3.11.5"
  }
 },
 "nbformat": 4,
 "nbformat_minor": 5
}
